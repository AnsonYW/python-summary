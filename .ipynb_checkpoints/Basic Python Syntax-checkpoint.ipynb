{
 "cells": [
  {
   "cell_type": "markdown",
   "metadata": {},
   "source": [
    "## Styling your code\n",
    "- User four spaces per indentation level\n",
    "- Keep your lines to 79 characters or fewer.\n",
    "- Use single blank lines to group parts of your program visually"
   ]
  },
  {
   "cell_type": "markdown",
   "metadata": {},
   "source": [
    "## Resources to visualize your code -> good for learning data structure\n",
    "- pythontutor.com"
   ]
  },
  {
   "cell_type": "markdown",
   "metadata": {},
   "source": [
    "## Variable and Strings\n",
    "\n",
    "- variables are used to store values\n",
    "- A string is a series of characters, surrounded by single or double quotes"
   ]
  },
  {
   "cell_type": "code",
   "execution_count": 1,
   "metadata": {},
   "outputs": [
    {
     "name": "stdout",
     "output_type": "stream",
     "text": [
      "Hello World\n"
     ]
    }
   ],
   "source": [
    "# print operation\n",
    "print(\"Hello World\")"
   ]
  },
  {
   "cell_type": "code",
   "execution_count": 2,
   "metadata": {},
   "outputs": [
    {
     "name": "stdout",
     "output_type": "stream",
     "text": [
      "Hello World\n"
     ]
    }
   ],
   "source": [
    "# Hello world with a variable\n",
    "msg = \"Hello World\"\n",
    "print(msg)"
   ]
  },
  {
   "cell_type": "code",
   "execution_count": 3,
   "metadata": {},
   "outputs": [
    {
     "name": "stdout",
     "output_type": "stream",
     "text": [
      "Anson Shiu\n"
     ]
    }
   ],
   "source": [
    "# How to combine strings?\n",
    "first_name = \"Anson\"\n",
    "last_name = \"Shiu\"\n",
    "full_name = first_name + ' ' + last_name\n",
    "print(full_name)"
   ]
  },
  {
   "cell_type": "markdown",
   "metadata": {},
   "source": [
    "## Lists\n",
    "\n",
    "- A list stores a series of items in particular order. You can access items using an index or within a loop"
   ]
  },
  {
   "cell_type": "code",
   "execution_count": 4,
   "metadata": {
    "collapsed": true
   },
   "outputs": [],
   "source": [
    "# Make a list\n",
    "colors =['red','orange','yellow','green']"
   ]
  },
  {
   "cell_type": "code",
   "execution_count": 5,
   "metadata": {},
   "outputs": [
    {
     "name": "stdout",
     "output_type": "stream",
     "text": [
      "we have 4 users.\n"
     ]
    }
   ],
   "source": [
    "# List length\n",
    "num_colors = len(colors)\n",
    "print('we have ' + str(num_colors) + ' users.')"
   ]
  },
  {
   "cell_type": "code",
   "execution_count": 6,
   "metadata": {},
   "outputs": [
    {
     "name": "stdout",
     "output_type": "stream",
     "text": [
      "red\n"
     ]
    }
   ],
   "source": [
    "# Get the first item of the list\n",
    "first_color = colors[0]\n",
    "print(first_color)"
   ]
  },
  {
   "cell_type": "code",
   "execution_count": 7,
   "metadata": {},
   "outputs": [
    {
     "name": "stdout",
     "output_type": "stream",
     "text": [
      "orange\n"
     ]
    }
   ],
   "source": [
    "# Get the second item of the list\n",
    "second_color = colors[1]\n",
    "print(second_color)"
   ]
  },
  {
   "cell_type": "code",
   "execution_count": 8,
   "metadata": {},
   "outputs": [
    {
     "name": "stdout",
     "output_type": "stream",
     "text": [
      "green\n"
     ]
    }
   ],
   "source": [
    "# Get the last item of the list\n",
    "last_color = colors[-1]\n",
    "print(last_color)"
   ]
  },
  {
   "cell_type": "markdown",
   "metadata": {},
   "source": [
    "### Looping through a list"
   ]
  },
  {
   "cell_type": "code",
   "execution_count": 9,
   "metadata": {},
   "outputs": [
    {
     "name": "stdout",
     "output_type": "stream",
     "text": [
      "red\n",
      "orange\n",
      "yellow\n",
      "green\n"
     ]
    }
   ],
   "source": [
    "# Operation within the loop: what do you want to perform in the smallest unit\n",
    "for color in colors:\n",
    "    print(color)"
   ]
  },
  {
   "cell_type": "code",
   "execution_count": 10,
   "metadata": {
    "collapsed": true
   },
   "outputs": [],
   "source": [
    "# Adding items to a list\n",
    "colors = []\n",
    "colors.append('red')\n",
    "colors.append('orange')\n",
    "colors.append('yellow')"
   ]
  },
  {
   "cell_type": "code",
   "execution_count": 11,
   "metadata": {},
   "outputs": [
    {
     "name": "stdout",
     "output_type": "stream",
     "text": [
      "['red', 'orange', 'yellow']\n"
     ]
    }
   ],
   "source": [
    "print(colors)"
   ]
  },
  {
   "cell_type": "code",
   "execution_count": 12,
   "metadata": {},
   "outputs": [
    {
     "data": {
      "text/plain": [
       "['black', 'orange', 'white']"
      ]
     },
     "execution_count": 12,
     "metadata": {},
     "output_type": "execute_result"
    }
   ],
   "source": [
    "# modifying individual items\n",
    "colors[0] = 'black'\n",
    "colors[-1] = 'white'\n",
    "colors"
   ]
  },
  {
   "cell_type": "code",
   "execution_count": 13,
   "metadata": {},
   "outputs": [
    {
     "data": {
      "text/plain": [
       "['rainbox', 'black', 'orange', 'white']"
      ]
     },
     "execution_count": 13,
     "metadata": {},
     "output_type": "execute_result"
    }
   ],
   "source": [
    "# inserting elements at a particular position\n",
    "colors.insert(0,'rainbox')\n",
    "colors"
   ]
  },
  {
   "cell_type": "code",
   "execution_count": 14,
   "metadata": {},
   "outputs": [
    {
     "data": {
      "text/plain": [
       "['rainbox', 'black', 'white']"
      ]
     },
     "execution_count": 14,
     "metadata": {},
     "output_type": "execute_result"
    }
   ],
   "source": [
    "# deleting an element by its position\n",
    "del colors[-2]\n",
    "colors"
   ]
  },
  {
   "cell_type": "code",
   "execution_count": 15,
   "metadata": {},
   "outputs": [
    {
     "data": {
      "text/plain": [
       "['black', 'white']"
      ]
     },
     "execution_count": 15,
     "metadata": {},
     "output_type": "execute_result"
    }
   ],
   "source": [
    "# Removing an item by its value\n",
    "colors.remove('rainbox')\n",
    "colors"
   ]
  },
  {
   "cell_type": "code",
   "execution_count": 16,
   "metadata": {},
   "outputs": [
    {
     "name": "stdout",
     "output_type": "stream",
     "text": [
      "[1, 4, 9, 16, 25, 36, 49, 64, 81, 100]\n"
     ]
    }
   ],
   "source": [
    "# Making numerical lists\n",
    "squares = []\n",
    "for x in range(1,11):\n",
    "    squares.append(x**2)\n",
    "print(squares)"
   ]
  },
  {
   "cell_type": "markdown",
   "metadata": {},
   "source": [
    "### List comprehension = 一句写完读取整个list,并assign 到一个variable上"
   ]
  },
  {
   "cell_type": "code",
   "execution_count": 17,
   "metadata": {},
   "outputs": [
    {
     "data": {
      "text/plain": [
       "[1, 4, 9, 16, 25, 36, 49, 64, 81, 100]"
      ]
     },
     "execution_count": 17,
     "metadata": {},
     "output_type": "execute_result"
    }
   ],
   "source": [
    "squares = [x**2 for x in range(1,11)]\n",
    "squares "
   ]
  },
  {
   "cell_type": "code",
   "execution_count": 18,
   "metadata": {},
   "outputs": [
    {
     "name": "stdout",
     "output_type": "stream",
     "text": [
      "['KAI', 'ABE', 'ADA', 'GUS', 'ZOE']\n"
     ]
    }
   ],
   "source": [
    "# Using a loop to convert a list of names to upper case\n",
    "names = ['kai','abe','ada','gus','zoe']\n",
    "upper_names = [name.upper() for name in names]\n",
    "print(upper_names)"
   ]
  },
  {
   "cell_type": "code",
   "execution_count": 20,
   "metadata": {},
   "outputs": [
    {
     "data": {
      "text/plain": [
       "['kai', 'abe', 'ada', 'gus', 'zoe']"
      ]
     },
     "execution_count": 20,
     "metadata": {},
     "output_type": "execute_result"
    }
   ],
   "source": [
    "# Copy a list\n",
    "names_copy = names[:]\n",
    "names_copy"
   ]
  },
  {
   "cell_type": "markdown",
   "metadata": {},
   "source": [
    "###  List extension: popping element\n",
    "- if you want to work with an element that you're removing from the list, you can \"pop\" the element. If you think of the list as a stack of items pop takes an item off the top of the stack. By default pop() returns the last element in the list, but you can alos pop elements from any position in the list"
   ]
  },
  {
   "cell_type": "code",
   "execution_count": 21,
   "metadata": {},
   "outputs": [
    {
     "name": "stdout",
     "output_type": "stream",
     "text": [
      "Tiffany\n"
     ]
    }
   ],
   "source": [
    "# Pop the last item from a list\n",
    "people = ['Tony','Tom','Tiffany']\n",
    "the_most_recent_people = people.pop()\n",
    "print(the_most_recent_people)"
   ]
  },
  {
   "cell_type": "code",
   "execution_count": 22,
   "metadata": {},
   "outputs": [
    {
     "name": "stdout",
     "output_type": "stream",
     "text": [
      "Tony\n"
     ]
    }
   ],
   "source": [
    "# Pop the first item in a list\n",
    "first_people = people.pop(0)\n",
    "print(first_people)"
   ]
  },
  {
   "cell_type": "markdown",
   "metadata": {},
   "source": [
    "### List extension: sorting\n",
    "\n",
    "- The __sort()__ method changes the order of a list permanently.\n",
    "- The __sorted()__ function returns a copy of the list, leaving the original list unchanged\n",
    "- You can sort the items in a list in alphabetical order, or reverse alphabetical order\n",
    "- You can reverse the original order of the list. Keep in mind that __lowercase and uppercase letters may affect the sort order__"
   ]
  },
  {
   "cell_type": "code",
   "execution_count": 23,
   "metadata": {},
   "outputs": [
    {
     "name": "stdout",
     "output_type": "stream",
     "text": [
      "['x', 'c', 'v', 'b', 'n']\n"
     ]
    }
   ],
   "source": [
    "alphabets = ['x','c','v','b','n']\n",
    "print(alphabets)"
   ]
  },
  {
   "cell_type": "code",
   "execution_count": 24,
   "metadata": {},
   "outputs": [
    {
     "data": {
      "text/plain": [
       "['b', 'c', 'n', 'v', 'x']"
      ]
     },
     "execution_count": 24,
     "metadata": {},
     "output_type": "execute_result"
    }
   ],
   "source": [
    "#sorting a list permanently\n",
    "alphabets.sort()\n",
    "alphabets"
   ]
  },
  {
   "cell_type": "code",
   "execution_count": 25,
   "metadata": {},
   "outputs": [
    {
     "data": {
      "text/plain": [
       "['x', 'v', 'n', 'c', 'b']"
      ]
     },
     "execution_count": 25,
     "metadata": {},
     "output_type": "execute_result"
    }
   ],
   "source": [
    "#sorting a list permanently in reverse alphabetical order\n",
    "alphabets.sort(reverse=True)\n",
    "alphabets"
   ]
  },
  {
   "cell_type": "code",
   "execution_count": 26,
   "metadata": {},
   "outputs": [
    {
     "name": "stdout",
     "output_type": "stream",
     "text": [
      "['b', 'c', 'n', 'v', 'x']\n",
      "['x', 'v', 'n', 'c', 'b']\n"
     ]
    }
   ],
   "source": [
    "#sorting a list temporairly\n",
    "print(sorted(alphabets))\n",
    "print(sorted(alphabets, reverse=True))"
   ]
  },
  {
   "cell_type": "code",
   "execution_count": 27,
   "metadata": {},
   "outputs": [
    {
     "data": {
      "text/plain": [
       "['b', 'c', 'n', 'v', 'x']"
      ]
     },
     "execution_count": 27,
     "metadata": {},
     "output_type": "execute_result"
    }
   ],
   "source": [
    "# Reversing the order of a list\n",
    "alphabets.reverse()\n",
    "alphabets"
   ]
  },
  {
   "cell_type": "markdown",
   "metadata": {},
   "source": [
    "### List extension: the range( ) function\n",
    "\n",
    "- You can use the range() function to work with a set of numbers efficiently. The range() function starts at 0 by default, and stops one number below the number passed to it. You can use the list() function to efficiently generate a large list of numbers"
   ]
  },
  {
   "cell_type": "code",
   "execution_count": 28,
   "metadata": {
    "scrolled": true
   },
   "outputs": [
    {
     "name": "stdout",
     "output_type": "stream",
     "text": [
      "0\n",
      "1\n",
      "2\n",
      "3\n",
      "4\n",
      "5\n",
      "6\n",
      "7\n",
      "8\n",
      "9\n",
      "10\n",
      "11\n",
      "12\n",
      "13\n",
      "14\n",
      "15\n",
      "16\n",
      "17\n",
      "18\n",
      "19\n",
      "20\n",
      "21\n",
      "22\n",
      "23\n",
      "24\n",
      "25\n",
      "26\n",
      "27\n",
      "28\n",
      "29\n",
      "30\n",
      "31\n",
      "32\n",
      "33\n",
      "34\n",
      "35\n",
      "36\n",
      "37\n",
      "38\n",
      "39\n",
      "40\n",
      "41\n",
      "42\n",
      "43\n",
      "44\n",
      "45\n",
      "46\n",
      "47\n",
      "48\n",
      "49\n",
      "50\n",
      "51\n",
      "52\n",
      "53\n",
      "54\n",
      "55\n",
      "56\n",
      "57\n",
      "58\n",
      "59\n",
      "60\n",
      "61\n",
      "62\n",
      "63\n",
      "64\n",
      "65\n",
      "66\n",
      "67\n",
      "68\n",
      "69\n",
      "70\n",
      "71\n",
      "72\n",
      "73\n",
      "74\n",
      "75\n",
      "76\n",
      "77\n",
      "78\n",
      "79\n",
      "80\n",
      "81\n",
      "82\n",
      "83\n",
      "84\n",
      "85\n",
      "86\n",
      "87\n",
      "88\n",
      "89\n",
      "90\n",
      "91\n",
      "92\n",
      "93\n",
      "94\n",
      "95\n",
      "96\n",
      "97\n",
      "98\n",
      "99\n",
      "100\n",
      "101\n",
      "102\n",
      "103\n",
      "104\n",
      "105\n",
      "106\n",
      "107\n",
      "108\n",
      "109\n",
      "110\n",
      "111\n",
      "112\n",
      "113\n",
      "114\n",
      "115\n",
      "116\n",
      "117\n",
      "118\n",
      "119\n",
      "120\n",
      "121\n",
      "122\n",
      "123\n",
      "124\n",
      "125\n",
      "126\n",
      "127\n",
      "128\n",
      "129\n",
      "130\n",
      "131\n",
      "132\n",
      "133\n",
      "134\n",
      "135\n",
      "136\n",
      "137\n",
      "138\n",
      "139\n",
      "140\n",
      "141\n",
      "142\n",
      "143\n",
      "144\n",
      "145\n",
      "146\n",
      "147\n",
      "148\n",
      "149\n",
      "150\n",
      "151\n",
      "152\n",
      "153\n",
      "154\n",
      "155\n",
      "156\n",
      "157\n",
      "158\n",
      "159\n",
      "160\n",
      "161\n",
      "162\n",
      "163\n",
      "164\n",
      "165\n",
      "166\n",
      "167\n",
      "168\n",
      "169\n",
      "170\n",
      "171\n",
      "172\n",
      "173\n",
      "174\n",
      "175\n",
      "176\n",
      "177\n",
      "178\n",
      "179\n",
      "180\n",
      "181\n",
      "182\n",
      "183\n",
      "184\n",
      "185\n",
      "186\n",
      "187\n",
      "188\n",
      "189\n",
      "190\n",
      "191\n",
      "192\n",
      "193\n",
      "194\n",
      "195\n",
      "196\n",
      "197\n",
      "198\n",
      "199\n",
      "200\n",
      "201\n",
      "202\n",
      "203\n",
      "204\n",
      "205\n",
      "206\n",
      "207\n",
      "208\n",
      "209\n",
      "210\n",
      "211\n",
      "212\n",
      "213\n",
      "214\n",
      "215\n",
      "216\n",
      "217\n",
      "218\n",
      "219\n",
      "220\n",
      "221\n",
      "222\n",
      "223\n",
      "224\n",
      "225\n",
      "226\n",
      "227\n",
      "228\n",
      "229\n",
      "230\n",
      "231\n",
      "232\n",
      "233\n",
      "234\n",
      "235\n",
      "236\n",
      "237\n",
      "238\n",
      "239\n",
      "240\n",
      "241\n",
      "242\n",
      "243\n",
      "244\n",
      "245\n",
      "246\n",
      "247\n",
      "248\n",
      "249\n",
      "250\n",
      "251\n",
      "252\n",
      "253\n",
      "254\n",
      "255\n",
      "256\n",
      "257\n",
      "258\n",
      "259\n",
      "260\n",
      "261\n",
      "262\n",
      "263\n",
      "264\n",
      "265\n",
      "266\n",
      "267\n",
      "268\n",
      "269\n",
      "270\n",
      "271\n",
      "272\n",
      "273\n",
      "274\n",
      "275\n",
      "276\n",
      "277\n",
      "278\n",
      "279\n",
      "280\n",
      "281\n",
      "282\n",
      "283\n",
      "284\n",
      "285\n",
      "286\n",
      "287\n",
      "288\n",
      "289\n",
      "290\n",
      "291\n",
      "292\n",
      "293\n",
      "294\n",
      "295\n",
      "296\n",
      "297\n",
      "298\n",
      "299\n",
      "300\n",
      "301\n",
      "302\n",
      "303\n",
      "304\n",
      "305\n",
      "306\n",
      "307\n",
      "308\n",
      "309\n",
      "310\n",
      "311\n",
      "312\n",
      "313\n",
      "314\n",
      "315\n",
      "316\n",
      "317\n",
      "318\n",
      "319\n",
      "320\n",
      "321\n",
      "322\n",
      "323\n",
      "324\n",
      "325\n",
      "326\n",
      "327\n",
      "328\n",
      "329\n",
      "330\n",
      "331\n",
      "332\n",
      "333\n",
      "334\n",
      "335\n",
      "336\n",
      "337\n",
      "338\n",
      "339\n",
      "340\n",
      "341\n",
      "342\n",
      "343\n",
      "344\n",
      "345\n",
      "346\n",
      "347\n",
      "348\n",
      "349\n",
      "350\n",
      "351\n",
      "352\n",
      "353\n",
      "354\n",
      "355\n",
      "356\n",
      "357\n",
      "358\n",
      "359\n",
      "360\n",
      "361\n",
      "362\n",
      "363\n",
      "364\n",
      "365\n",
      "366\n",
      "367\n",
      "368\n",
      "369\n",
      "370\n",
      "371\n",
      "372\n",
      "373\n",
      "374\n",
      "375\n",
      "376\n",
      "377\n",
      "378\n",
      "379\n",
      "380\n",
      "381\n",
      "382\n",
      "383\n",
      "384\n",
      "385\n",
      "386\n",
      "387\n",
      "388\n",
      "389\n",
      "390\n",
      "391\n",
      "392\n",
      "393\n",
      "394\n",
      "395\n",
      "396\n",
      "397\n",
      "398\n",
      "399\n",
      "400\n",
      "401\n",
      "402\n",
      "403\n",
      "404\n",
      "405\n",
      "406\n",
      "407\n",
      "408\n",
      "409\n",
      "410\n",
      "411\n",
      "412\n",
      "413\n",
      "414\n",
      "415\n",
      "416\n",
      "417\n",
      "418\n",
      "419\n",
      "420\n",
      "421\n",
      "422\n",
      "423\n",
      "424\n",
      "425\n",
      "426\n",
      "427\n",
      "428\n",
      "429\n",
      "430\n",
      "431\n",
      "432\n",
      "433\n",
      "434\n",
      "435\n",
      "436\n",
      "437\n",
      "438\n",
      "439\n",
      "440\n",
      "441\n",
      "442\n",
      "443\n",
      "444\n",
      "445\n",
      "446\n",
      "447\n",
      "448\n",
      "449\n",
      "450\n",
      "451\n",
      "452\n",
      "453\n",
      "454\n",
      "455\n",
      "456\n",
      "457\n",
      "458\n",
      "459\n",
      "460\n",
      "461\n",
      "462\n",
      "463\n",
      "464\n",
      "465\n",
      "466\n",
      "467\n",
      "468\n",
      "469\n",
      "470\n",
      "471\n",
      "472\n",
      "473\n",
      "474\n",
      "475\n",
      "476\n",
      "477\n",
      "478\n",
      "479\n",
      "480\n",
      "481\n",
      "482\n",
      "483\n",
      "484\n",
      "485\n",
      "486\n",
      "487\n",
      "488\n",
      "489\n",
      "490\n",
      "491\n",
      "492\n",
      "493\n",
      "494\n",
      "495\n",
      "496\n",
      "497\n",
      "498\n",
      "499\n",
      "500\n",
      "501\n",
      "502\n",
      "503\n",
      "504\n",
      "505\n",
      "506\n",
      "507\n",
      "508\n",
      "509\n",
      "510\n",
      "511\n",
      "512\n",
      "513\n",
      "514\n",
      "515\n",
      "516\n",
      "517\n",
      "518\n",
      "519\n",
      "520\n",
      "521\n",
      "522\n",
      "523\n",
      "524\n",
      "525\n",
      "526\n",
      "527\n",
      "528\n",
      "529\n",
      "530\n",
      "531\n",
      "532\n",
      "533\n",
      "534\n",
      "535\n",
      "536\n",
      "537\n",
      "538\n",
      "539\n",
      "540\n",
      "541\n",
      "542\n",
      "543\n",
      "544\n",
      "545\n",
      "546\n",
      "547\n",
      "548\n",
      "549\n",
      "550\n",
      "551\n",
      "552\n",
      "553\n",
      "554\n",
      "555\n",
      "556\n",
      "557\n",
      "558\n",
      "559\n",
      "560\n",
      "561\n",
      "562\n",
      "563\n",
      "564\n",
      "565\n",
      "566\n",
      "567\n",
      "568\n",
      "569\n",
      "570\n",
      "571\n",
      "572\n",
      "573\n",
      "574\n",
      "575\n",
      "576\n",
      "577\n",
      "578\n",
      "579\n",
      "580\n",
      "581\n",
      "582\n",
      "583\n",
      "584\n",
      "585\n",
      "586\n",
      "587\n",
      "588\n",
      "589\n",
      "590\n",
      "591\n",
      "592\n",
      "593\n",
      "594\n",
      "595\n",
      "596\n",
      "597\n",
      "598\n",
      "599\n",
      "600\n",
      "601\n",
      "602\n",
      "603\n",
      "604\n",
      "605\n",
      "606\n",
      "607\n",
      "608\n",
      "609\n",
      "610\n",
      "611\n",
      "612\n",
      "613\n",
      "614\n",
      "615\n",
      "616\n",
      "617\n",
      "618\n",
      "619\n",
      "620\n",
      "621\n",
      "622\n",
      "623\n",
      "624\n",
      "625\n",
      "626\n",
      "627\n",
      "628\n",
      "629\n",
      "630\n",
      "631\n",
      "632\n",
      "633\n",
      "634\n",
      "635\n",
      "636\n",
      "637\n",
      "638\n",
      "639\n",
      "640\n",
      "641\n",
      "642\n",
      "643\n",
      "644\n",
      "645\n",
      "646\n",
      "647\n",
      "648\n",
      "649\n",
      "650\n",
      "651\n",
      "652\n",
      "653\n",
      "654\n",
      "655\n",
      "656\n",
      "657\n",
      "658\n",
      "659\n",
      "660\n",
      "661\n",
      "662\n",
      "663\n",
      "664\n",
      "665\n",
      "666\n",
      "667\n",
      "668\n",
      "669\n",
      "670\n",
      "671\n",
      "672\n",
      "673\n",
      "674\n",
      "675\n",
      "676\n",
      "677\n",
      "678\n",
      "679\n",
      "680\n",
      "681\n",
      "682\n",
      "683\n",
      "684\n",
      "685\n",
      "686\n",
      "687\n",
      "688\n",
      "689\n",
      "690\n",
      "691\n",
      "692\n",
      "693\n",
      "694\n",
      "695\n",
      "696\n",
      "697\n",
      "698\n",
      "699\n",
      "700\n",
      "701\n",
      "702\n",
      "703\n",
      "704\n",
      "705\n",
      "706\n",
      "707\n",
      "708\n",
      "709\n",
      "710\n",
      "711\n",
      "712\n",
      "713\n",
      "714\n",
      "715\n",
      "716\n",
      "717\n",
      "718\n",
      "719\n",
      "720\n",
      "721\n",
      "722\n",
      "723\n",
      "724\n",
      "725\n",
      "726\n",
      "727\n",
      "728\n",
      "729\n",
      "730\n",
      "731\n",
      "732\n",
      "733\n",
      "734\n",
      "735\n",
      "736\n",
      "737\n",
      "738\n",
      "739\n",
      "740\n",
      "741\n",
      "742\n",
      "743\n",
      "744\n",
      "745\n",
      "746\n",
      "747\n",
      "748\n",
      "749\n",
      "750\n",
      "751\n",
      "752\n",
      "753\n",
      "754\n",
      "755\n",
      "756\n",
      "757\n",
      "758\n",
      "759\n",
      "760\n",
      "761\n",
      "762\n",
      "763\n",
      "764\n",
      "765\n",
      "766\n",
      "767\n",
      "768\n",
      "769\n",
      "770\n",
      "771\n",
      "772\n",
      "773\n",
      "774\n",
      "775\n",
      "776\n",
      "777\n",
      "778\n",
      "779\n",
      "780\n",
      "781\n",
      "782\n",
      "783\n",
      "784\n",
      "785\n",
      "786\n",
      "787\n",
      "788\n",
      "789\n",
      "790\n",
      "791\n",
      "792\n",
      "793\n",
      "794\n",
      "795\n",
      "796\n",
      "797\n",
      "798\n",
      "799\n",
      "800\n",
      "801\n",
      "802\n",
      "803\n",
      "804\n",
      "805\n",
      "806\n",
      "807\n",
      "808\n",
      "809\n",
      "810\n",
      "811\n",
      "812\n",
      "813\n",
      "814\n",
      "815\n",
      "816\n",
      "817\n",
      "818\n",
      "819\n",
      "820\n",
      "821\n",
      "822\n",
      "823\n",
      "824\n",
      "825\n",
      "826\n",
      "827\n",
      "828\n",
      "829\n",
      "830\n",
      "831\n",
      "832\n",
      "833\n",
      "834\n",
      "835\n",
      "836\n",
      "837\n",
      "838\n",
      "839\n",
      "840\n",
      "841\n",
      "842\n",
      "843\n",
      "844\n",
      "845\n",
      "846\n",
      "847\n",
      "848\n",
      "849\n",
      "850\n",
      "851\n",
      "852\n",
      "853\n",
      "854\n",
      "855\n",
      "856\n",
      "857\n",
      "858\n",
      "859\n",
      "860\n",
      "861\n",
      "862\n",
      "863\n",
      "864\n",
      "865\n",
      "866\n",
      "867\n",
      "868\n",
      "869\n",
      "870\n",
      "871\n",
      "872\n",
      "873\n",
      "874\n",
      "875\n",
      "876\n",
      "877\n",
      "878\n",
      "879\n",
      "880\n",
      "881\n",
      "882\n",
      "883\n",
      "884\n",
      "885\n",
      "886\n",
      "887\n",
      "888\n",
      "889\n",
      "890\n",
      "891\n",
      "892\n",
      "893\n",
      "894\n",
      "895\n",
      "896\n",
      "897\n",
      "898\n",
      "899\n",
      "900\n",
      "901\n",
      "902\n",
      "903\n",
      "904\n",
      "905\n",
      "906\n",
      "907\n",
      "908\n",
      "909\n",
      "910\n",
      "911\n",
      "912\n",
      "913\n",
      "914\n",
      "915\n",
      "916\n",
      "917\n",
      "918\n",
      "919\n",
      "920\n",
      "921\n",
      "922\n",
      "923\n",
      "924\n",
      "925\n",
      "926\n",
      "927\n",
      "928\n",
      "929\n",
      "930\n",
      "931\n",
      "932\n",
      "933\n",
      "934\n",
      "935\n",
      "936\n",
      "937\n",
      "938\n",
      "939\n",
      "940\n",
      "941\n",
      "942\n",
      "943\n",
      "944\n",
      "945\n",
      "946\n",
      "947\n",
      "948\n",
      "949\n",
      "950\n",
      "951\n",
      "952\n",
      "953\n",
      "954\n",
      "955\n",
      "956\n",
      "957\n",
      "958\n",
      "959\n",
      "960\n",
      "961\n",
      "962\n",
      "963\n",
      "964\n",
      "965\n",
      "966\n",
      "967\n",
      "968\n",
      "969\n",
      "970\n",
      "971\n",
      "972\n",
      "973\n",
      "974\n",
      "975\n",
      "976\n",
      "977\n",
      "978\n",
      "979\n",
      "980\n",
      "981\n",
      "982\n",
      "983\n",
      "984\n",
      "985\n",
      "986\n",
      "987\n",
      "988\n",
      "989\n",
      "990\n",
      "991\n",
      "992\n",
      "993\n",
      "994\n",
      "995\n",
      "996\n",
      "997\n",
      "998\n",
      "999\n",
      "1000\n"
     ]
    }
   ],
   "source": [
    "# Printing the numbers 0 to 1000\n",
    "for number in range(1001):\n",
    "    print(number)"
   ]
  },
  {
   "cell_type": "code",
   "execution_count": 29,
   "metadata": {},
   "outputs": [
    {
     "name": "stdout",
     "output_type": "stream",
     "text": [
      "1\n",
      "2\n",
      "3\n",
      "4\n",
      "5\n",
      "6\n",
      "7\n",
      "8\n",
      "9\n",
      "10\n",
      "11\n",
      "12\n",
      "13\n",
      "14\n",
      "15\n",
      "16\n",
      "17\n",
      "18\n",
      "19\n",
      "20\n",
      "21\n",
      "22\n",
      "23\n",
      "24\n",
      "25\n",
      "26\n",
      "27\n",
      "28\n",
      "29\n",
      "30\n",
      "31\n",
      "32\n",
      "33\n",
      "34\n",
      "35\n",
      "36\n",
      "37\n",
      "38\n",
      "39\n",
      "40\n",
      "41\n",
      "42\n",
      "43\n",
      "44\n",
      "45\n",
      "46\n",
      "47\n",
      "48\n",
      "49\n",
      "50\n",
      "51\n",
      "52\n",
      "53\n",
      "54\n",
      "55\n",
      "56\n",
      "57\n",
      "58\n",
      "59\n",
      "60\n",
      "61\n",
      "62\n",
      "63\n",
      "64\n",
      "65\n",
      "66\n",
      "67\n",
      "68\n",
      "69\n",
      "70\n",
      "71\n",
      "72\n",
      "73\n",
      "74\n",
      "75\n",
      "76\n",
      "77\n",
      "78\n",
      "79\n",
      "80\n",
      "81\n",
      "82\n",
      "83\n",
      "84\n",
      "85\n",
      "86\n",
      "87\n",
      "88\n",
      "89\n",
      "90\n",
      "91\n",
      "92\n",
      "93\n",
      "94\n",
      "95\n",
      "96\n",
      "97\n",
      "98\n",
      "99\n",
      "100\n",
      "101\n",
      "102\n",
      "103\n",
      "104\n",
      "105\n",
      "106\n",
      "107\n",
      "108\n",
      "109\n",
      "110\n",
      "111\n",
      "112\n",
      "113\n",
      "114\n",
      "115\n",
      "116\n",
      "117\n",
      "118\n",
      "119\n",
      "120\n",
      "121\n",
      "122\n",
      "123\n",
      "124\n",
      "125\n",
      "126\n",
      "127\n",
      "128\n",
      "129\n",
      "130\n",
      "131\n",
      "132\n",
      "133\n",
      "134\n",
      "135\n",
      "136\n",
      "137\n",
      "138\n",
      "139\n",
      "140\n",
      "141\n",
      "142\n",
      "143\n",
      "144\n",
      "145\n",
      "146\n",
      "147\n",
      "148\n",
      "149\n",
      "150\n",
      "151\n",
      "152\n",
      "153\n",
      "154\n",
      "155\n",
      "156\n",
      "157\n",
      "158\n",
      "159\n",
      "160\n",
      "161\n",
      "162\n",
      "163\n",
      "164\n",
      "165\n",
      "166\n",
      "167\n",
      "168\n",
      "169\n",
      "170\n",
      "171\n",
      "172\n",
      "173\n",
      "174\n",
      "175\n",
      "176\n",
      "177\n",
      "178\n",
      "179\n",
      "180\n",
      "181\n",
      "182\n",
      "183\n",
      "184\n",
      "185\n",
      "186\n",
      "187\n",
      "188\n",
      "189\n",
      "190\n",
      "191\n",
      "192\n",
      "193\n",
      "194\n",
      "195\n",
      "196\n",
      "197\n",
      "198\n",
      "199\n",
      "200\n",
      "201\n",
      "202\n",
      "203\n",
      "204\n",
      "205\n",
      "206\n",
      "207\n",
      "208\n",
      "209\n",
      "210\n",
      "211\n",
      "212\n",
      "213\n",
      "214\n",
      "215\n",
      "216\n",
      "217\n",
      "218\n",
      "219\n",
      "220\n",
      "221\n",
      "222\n",
      "223\n",
      "224\n",
      "225\n",
      "226\n",
      "227\n",
      "228\n",
      "229\n",
      "230\n",
      "231\n",
      "232\n",
      "233\n",
      "234\n",
      "235\n",
      "236\n",
      "237\n",
      "238\n",
      "239\n",
      "240\n",
      "241\n",
      "242\n",
      "243\n",
      "244\n",
      "245\n",
      "246\n",
      "247\n",
      "248\n",
      "249\n",
      "250\n",
      "251\n",
      "252\n",
      "253\n",
      "254\n",
      "255\n",
      "256\n",
      "257\n",
      "258\n",
      "259\n",
      "260\n",
      "261\n",
      "262\n",
      "263\n",
      "264\n",
      "265\n",
      "266\n",
      "267\n",
      "268\n",
      "269\n",
      "270\n",
      "271\n",
      "272\n",
      "273\n",
      "274\n",
      "275\n",
      "276\n",
      "277\n",
      "278\n",
      "279\n",
      "280\n",
      "281\n",
      "282\n",
      "283\n",
      "284\n",
      "285\n",
      "286\n",
      "287\n",
      "288\n",
      "289\n",
      "290\n",
      "291\n",
      "292\n",
      "293\n",
      "294\n",
      "295\n",
      "296\n",
      "297\n",
      "298\n",
      "299\n",
      "300\n",
      "301\n",
      "302\n",
      "303\n",
      "304\n",
      "305\n",
      "306\n",
      "307\n",
      "308\n",
      "309\n",
      "310\n",
      "311\n",
      "312\n",
      "313\n",
      "314\n",
      "315\n",
      "316\n",
      "317\n",
      "318\n",
      "319\n",
      "320\n",
      "321\n",
      "322\n",
      "323\n",
      "324\n",
      "325\n",
      "326\n",
      "327\n",
      "328\n",
      "329\n",
      "330\n",
      "331\n",
      "332\n",
      "333\n",
      "334\n",
      "335\n",
      "336\n",
      "337\n",
      "338\n",
      "339\n",
      "340\n",
      "341\n",
      "342\n",
      "343\n",
      "344\n",
      "345\n",
      "346\n",
      "347\n",
      "348\n",
      "349\n",
      "350\n",
      "351\n",
      "352\n",
      "353\n",
      "354\n",
      "355\n",
      "356\n",
      "357\n",
      "358\n",
      "359\n",
      "360\n",
      "361\n",
      "362\n",
      "363\n",
      "364\n",
      "365\n",
      "366\n",
      "367\n",
      "368\n",
      "369\n",
      "370\n",
      "371\n",
      "372\n",
      "373\n",
      "374\n",
      "375\n",
      "376\n",
      "377\n",
      "378\n",
      "379\n",
      "380\n",
      "381\n",
      "382\n",
      "383\n",
      "384\n",
      "385\n",
      "386\n",
      "387\n",
      "388\n",
      "389\n",
      "390\n",
      "391\n",
      "392\n",
      "393\n",
      "394\n",
      "395\n",
      "396\n",
      "397\n",
      "398\n",
      "399\n",
      "400\n",
      "401\n",
      "402\n",
      "403\n",
      "404\n",
      "405\n",
      "406\n",
      "407\n",
      "408\n",
      "409\n",
      "410\n",
      "411\n",
      "412\n",
      "413\n",
      "414\n",
      "415\n",
      "416\n",
      "417\n",
      "418\n",
      "419\n",
      "420\n",
      "421\n",
      "422\n",
      "423\n",
      "424\n",
      "425\n",
      "426\n",
      "427\n",
      "428\n",
      "429\n",
      "430\n",
      "431\n",
      "432\n",
      "433\n",
      "434\n",
      "435\n",
      "436\n",
      "437\n",
      "438\n",
      "439\n",
      "440\n",
      "441\n",
      "442\n",
      "443\n",
      "444\n",
      "445\n",
      "446\n",
      "447\n",
      "448\n",
      "449\n",
      "450\n",
      "451\n",
      "452\n",
      "453\n",
      "454\n",
      "455\n",
      "456\n",
      "457\n",
      "458\n",
      "459\n",
      "460\n",
      "461\n",
      "462\n",
      "463\n",
      "464\n",
      "465\n",
      "466\n",
      "467\n",
      "468\n",
      "469\n",
      "470\n",
      "471\n",
      "472\n",
      "473\n",
      "474\n",
      "475\n",
      "476\n",
      "477\n",
      "478\n",
      "479\n",
      "480\n",
      "481\n",
      "482\n",
      "483\n",
      "484\n",
      "485\n",
      "486\n",
      "487\n",
      "488\n",
      "489\n",
      "490\n",
      "491\n",
      "492\n",
      "493\n",
      "494\n",
      "495\n",
      "496\n",
      "497\n",
      "498\n",
      "499\n",
      "500\n",
      "501\n",
      "502\n",
      "503\n",
      "504\n",
      "505\n",
      "506\n",
      "507\n",
      "508\n",
      "509\n",
      "510\n",
      "511\n",
      "512\n",
      "513\n",
      "514\n",
      "515\n",
      "516\n",
      "517\n",
      "518\n",
      "519\n",
      "520\n",
      "521\n",
      "522\n",
      "523\n",
      "524\n",
      "525\n",
      "526\n",
      "527\n",
      "528\n",
      "529\n",
      "530\n",
      "531\n",
      "532\n",
      "533\n",
      "534\n",
      "535\n",
      "536\n",
      "537\n",
      "538\n",
      "539\n",
      "540\n",
      "541\n",
      "542\n",
      "543\n",
      "544\n",
      "545\n",
      "546\n",
      "547\n",
      "548\n",
      "549\n",
      "550\n",
      "551\n",
      "552\n",
      "553\n",
      "554\n",
      "555\n",
      "556\n",
      "557\n",
      "558\n",
      "559\n",
      "560\n",
      "561\n",
      "562\n",
      "563\n",
      "564\n",
      "565\n",
      "566\n",
      "567\n",
      "568\n",
      "569\n",
      "570\n",
      "571\n",
      "572\n",
      "573\n",
      "574\n",
      "575\n",
      "576\n",
      "577\n",
      "578\n",
      "579\n",
      "580\n",
      "581\n",
      "582\n",
      "583\n",
      "584\n",
      "585\n",
      "586\n",
      "587\n",
      "588\n",
      "589\n",
      "590\n",
      "591\n",
      "592\n",
      "593\n",
      "594\n",
      "595\n",
      "596\n",
      "597\n",
      "598\n",
      "599\n",
      "600\n",
      "601\n",
      "602\n",
      "603\n",
      "604\n",
      "605\n",
      "606\n",
      "607\n",
      "608\n",
      "609\n",
      "610\n",
      "611\n",
      "612\n",
      "613\n",
      "614\n",
      "615\n",
      "616\n",
      "617\n",
      "618\n",
      "619\n",
      "620\n",
      "621\n",
      "622\n",
      "623\n",
      "624\n",
      "625\n",
      "626\n",
      "627\n",
      "628\n",
      "629\n",
      "630\n",
      "631\n",
      "632\n",
      "633\n",
      "634\n",
      "635\n",
      "636\n",
      "637\n",
      "638\n",
      "639\n",
      "640\n",
      "641\n",
      "642\n",
      "643\n",
      "644\n",
      "645\n",
      "646\n",
      "647\n",
      "648\n",
      "649\n",
      "650\n",
      "651\n",
      "652\n",
      "653\n",
      "654\n",
      "655\n",
      "656\n",
      "657\n",
      "658\n",
      "659\n",
      "660\n",
      "661\n",
      "662\n",
      "663\n",
      "664\n",
      "665\n",
      "666\n",
      "667\n",
      "668\n",
      "669\n",
      "670\n",
      "671\n",
      "672\n",
      "673\n",
      "674\n",
      "675\n",
      "676\n",
      "677\n",
      "678\n",
      "679\n",
      "680\n",
      "681\n",
      "682\n",
      "683\n",
      "684\n",
      "685\n",
      "686\n",
      "687\n",
      "688\n",
      "689\n",
      "690\n",
      "691\n",
      "692\n",
      "693\n",
      "694\n",
      "695\n",
      "696\n",
      "697\n",
      "698\n",
      "699\n",
      "700\n",
      "701\n",
      "702\n",
      "703\n",
      "704\n",
      "705\n",
      "706\n",
      "707\n",
      "708\n",
      "709\n",
      "710\n",
      "711\n",
      "712\n",
      "713\n",
      "714\n",
      "715\n",
      "716\n",
      "717\n",
      "718\n",
      "719\n",
      "720\n",
      "721\n",
      "722\n",
      "723\n",
      "724\n",
      "725\n",
      "726\n",
      "727\n",
      "728\n",
      "729\n",
      "730\n",
      "731\n",
      "732\n",
      "733\n",
      "734\n",
      "735\n",
      "736\n",
      "737\n",
      "738\n",
      "739\n",
      "740\n",
      "741\n",
      "742\n",
      "743\n",
      "744\n",
      "745\n",
      "746\n",
      "747\n",
      "748\n",
      "749\n",
      "750\n",
      "751\n",
      "752\n",
      "753\n",
      "754\n",
      "755\n",
      "756\n",
      "757\n",
      "758\n",
      "759\n",
      "760\n",
      "761\n",
      "762\n",
      "763\n",
      "764\n",
      "765\n",
      "766\n",
      "767\n",
      "768\n",
      "769\n",
      "770\n",
      "771\n",
      "772\n",
      "773\n",
      "774\n",
      "775\n",
      "776\n",
      "777\n",
      "778\n",
      "779\n",
      "780\n",
      "781\n",
      "782\n",
      "783\n",
      "784\n",
      "785\n",
      "786\n",
      "787\n",
      "788\n",
      "789\n",
      "790\n",
      "791\n",
      "792\n",
      "793\n",
      "794\n",
      "795\n",
      "796\n",
      "797\n",
      "798\n",
      "799\n",
      "800\n",
      "801\n",
      "802\n",
      "803\n",
      "804\n",
      "805\n",
      "806\n",
      "807\n",
      "808\n",
      "809\n",
      "810\n",
      "811\n",
      "812\n",
      "813\n",
      "814\n",
      "815\n",
      "816\n",
      "817\n",
      "818\n",
      "819\n",
      "820\n",
      "821\n",
      "822\n",
      "823\n",
      "824\n",
      "825\n",
      "826\n",
      "827\n",
      "828\n",
      "829\n",
      "830\n",
      "831\n",
      "832\n",
      "833\n",
      "834\n",
      "835\n",
      "836\n",
      "837\n",
      "838\n",
      "839\n",
      "840\n",
      "841\n",
      "842\n",
      "843\n",
      "844\n",
      "845\n",
      "846\n",
      "847\n",
      "848\n",
      "849\n",
      "850\n",
      "851\n",
      "852\n",
      "853\n",
      "854\n",
      "855\n",
      "856\n",
      "857\n",
      "858\n",
      "859\n",
      "860\n",
      "861\n",
      "862\n",
      "863\n",
      "864\n",
      "865\n",
      "866\n",
      "867\n",
      "868\n",
      "869\n",
      "870\n",
      "871\n",
      "872\n",
      "873\n",
      "874\n",
      "875\n",
      "876\n",
      "877\n",
      "878\n",
      "879\n",
      "880\n",
      "881\n",
      "882\n",
      "883\n",
      "884\n",
      "885\n",
      "886\n",
      "887\n",
      "888\n",
      "889\n",
      "890\n",
      "891\n",
      "892\n",
      "893\n",
      "894\n",
      "895\n",
      "896\n",
      "897\n",
      "898\n",
      "899\n",
      "900\n",
      "901\n",
      "902\n",
      "903\n",
      "904\n",
      "905\n",
      "906\n",
      "907\n",
      "908\n",
      "909\n",
      "910\n",
      "911\n",
      "912\n",
      "913\n",
      "914\n",
      "915\n",
      "916\n",
      "917\n",
      "918\n",
      "919\n",
      "920\n",
      "921\n",
      "922\n",
      "923\n",
      "924\n",
      "925\n",
      "926\n",
      "927\n",
      "928\n",
      "929\n",
      "930\n",
      "931\n",
      "932\n",
      "933\n",
      "934\n",
      "935\n",
      "936\n",
      "937\n",
      "938\n",
      "939\n",
      "940\n",
      "941\n",
      "942\n",
      "943\n",
      "944\n",
      "945\n",
      "946\n",
      "947\n",
      "948\n",
      "949\n",
      "950\n",
      "951\n",
      "952\n",
      "953\n",
      "954\n",
      "955\n",
      "956\n",
      "957\n",
      "958\n",
      "959\n",
      "960\n",
      "961\n",
      "962\n",
      "963\n",
      "964\n",
      "965\n",
      "966\n",
      "967\n",
      "968\n",
      "969\n",
      "970\n",
      "971\n",
      "972\n",
      "973\n",
      "974\n",
      "975\n",
      "976\n",
      "977\n",
      "978\n",
      "979\n",
      "980\n",
      "981\n",
      "982\n",
      "983\n",
      "984\n",
      "985\n",
      "986\n",
      "987\n",
      "988\n",
      "989\n",
      "990\n",
      "991\n",
      "992\n",
      "993\n",
      "994\n",
      "995\n",
      "996\n",
      "997\n",
      "998\n",
      "999\n",
      "1000\n"
     ]
    }
   ],
   "source": [
    "# Printing the numbers 1 to 1000\n",
    "for number in range(1,1001):\n",
    "    print(number)"
   ]
  },
  {
   "cell_type": "code",
   "execution_count": 30,
   "metadata": {
    "collapsed": true
   },
   "outputs": [],
   "source": [
    "# Making a list of numbers from 1 to a million\n",
    "numbers = list(range(1, 1000001))"
   ]
  },
  {
   "cell_type": "markdown",
   "metadata": {},
   "source": [
    "### List extension: Simple Statistics"
   ]
  },
  {
   "cell_type": "code",
   "execution_count": 31,
   "metadata": {},
   "outputs": [
    {
     "name": "stdout",
     "output_type": "stream",
     "text": [
      "1\n"
     ]
    }
   ],
   "source": [
    "# Finding the minimum value in a list\n",
    "ages = [93, 99, 66, 17, 85, 1, 45, 87,20]\n",
    "youngest = min(ages)\n",
    "print(youngest)"
   ]
  },
  {
   "cell_type": "code",
   "execution_count": 32,
   "metadata": {},
   "outputs": [
    {
     "name": "stdout",
     "output_type": "stream",
     "text": [
      "99\n"
     ]
    }
   ],
   "source": [
    "# Finding the maximum value in a list\n",
    "ages = [93, 99, 66, 17, 85, 1, 45, 87,20]\n",
    "oldest = max(ages)\n",
    "print(oldest)"
   ]
  },
  {
   "cell_type": "markdown",
   "metadata": {},
   "source": [
    "### List extension: Slicing a list\n",
    "- You can work with any set of elements from a list. A portion of a list is called a slice. \n",
    "- To slice a list start with the index of the first item you want, then ad a colon and the index after the last item you want. \n",
    "- Leave off the first index to start at the beginning of the list, and leave off the last index to slice through the end of the list"
   ]
  },
  {
   "cell_type": "code",
   "execution_count": 33,
   "metadata": {
    "collapsed": true
   },
   "outputs": [],
   "source": [
    "finishers = ['kai', 'abe', 'ada', 'gus','zoe']\n",
    "# Getting the first three items\n",
    "first_three = finishers[:3]\n",
    "# Getting the middle three items\n",
    "middle_three = finishers[1:4]\n",
    "# Getting the last three items\n",
    "last_three = finishers[-3:]\n"
   ]
  },
  {
   "cell_type": "markdown",
   "metadata": {},
   "source": [
    "## Tuples\n",
    "\n",
    "- Tuples are similar to lists, but the items in tuple cannot be modified\n",
    "- Tuples are good for storing information that shouldn't be changed throughout the life of a program.\n",
    "- Tuples are designated by parentheses instead of square brackets\n",
    "- You can overwrite aan entire tuple, but you cannot change the individual element in a tuple"
   ]
  },
  {
   "cell_type": "code",
   "execution_count": 34,
   "metadata": {},
   "outputs": [
    {
     "data": {
      "text/plain": [
       "(1000, 2000)"
      ]
     },
     "execution_count": 34,
     "metadata": {},
     "output_type": "execute_result"
    }
   ],
   "source": [
    "# Making a tuple\n",
    "dimensions = (1000,2000)\n",
    "dimensions"
   ]
  },
  {
   "cell_type": "code",
   "execution_count": 35,
   "metadata": {},
   "outputs": [
    {
     "name": "stdout",
     "output_type": "stream",
     "text": [
      "1000\n",
      "2000\n"
     ]
    }
   ],
   "source": [
    "# Looping through a tuple\n",
    "for dimension in dimensions:\n",
    "    print(dimension)"
   ]
  },
  {
   "cell_type": "code",
   "execution_count": 36,
   "metadata": {},
   "outputs": [
    {
     "name": "stdout",
     "output_type": "stream",
     "text": [
      "(800, 600)\n",
      "(1200, 900)\n"
     ]
    }
   ],
   "source": [
    "# Overwritting a tuple\n",
    "dimensions = (800, 600)\n",
    "print(dimensions)\n",
    "\n",
    "dimensions = (1200,900)\n",
    "print(dimensions)"
   ]
  },
  {
   "cell_type": "markdown",
   "metadata": {},
   "source": [
    "## Dictionaries\n",
    "\n",
    "- Dictionaries store connections between pieces of information. Each item in a dictioanry is a key-value pair\n",
    "- When you provide a key, Python returns the value associated with that key"
   ]
  },
  {
   "cell_type": "code",
   "execution_count": 37,
   "metadata": {},
   "outputs": [
    {
     "data": {
      "text/plain": [
       "{'color': 'green', 'points': 5}"
      ]
     },
     "execution_count": 37,
     "metadata": {},
     "output_type": "execute_result"
    }
   ],
   "source": [
    "# A simple dictionary\n",
    "alien = {'color':'green','points':5}\n",
    "alien"
   ]
  },
  {
   "cell_type": "code",
   "execution_count": 38,
   "metadata": {},
   "outputs": [
    {
     "name": "stdout",
     "output_type": "stream",
     "text": [
      "2\n"
     ]
    }
   ],
   "source": [
    "# Dictionary length\n",
    "dict_len = len(alien)\n",
    "print(dict_len)"
   ]
  },
  {
   "cell_type": "code",
   "execution_count": 39,
   "metadata": {},
   "outputs": [
    {
     "name": "stdout",
     "output_type": "stream",
     "text": [
      "The alien's color is green\n"
     ]
    }
   ],
   "source": [
    "# Accessing a value associated with a key\n",
    "print('The alien\\'s color is ' + alien['color'])"
   ]
  },
  {
   "cell_type": "code",
   "execution_count": 40,
   "metadata": {},
   "outputs": [
    {
     "name": "stdout",
     "output_type": "stream",
     "text": [
      "green\n",
      "0\n"
     ]
    }
   ],
   "source": [
    "# Getting the value with get()\n",
    "alien_0 = {'color': 'green'}\n",
    "\n",
    "alien_color = alien_0.get('color')\n",
    "alien_points = alien_0.get('points', 0)\n",
    "print(alien_color)\n",
    "print(alien_points)"
   ]
  },
  {
   "cell_type": "code",
   "execution_count": 41,
   "metadata": {},
   "outputs": [
    {
     "data": {
      "text/plain": [
       "{'color': 'green', 'points': 5, 'x_position': 0}"
      ]
     },
     "execution_count": 41,
     "metadata": {},
     "output_type": "execute_result"
    }
   ],
   "source": [
    "# Adding a new key-value pair, until your computer run out of memory\n",
    "alien['x_position'] = 0\n",
    "alien"
   ]
  },
  {
   "cell_type": "code",
   "execution_count": 42,
   "metadata": {},
   "outputs": [
    {
     "name": "stdout",
     "output_type": "stream",
     "text": [
      "{'color': 'green', 'points': 5}\n",
      "{'color': 'yellow', 'points': 10}\n"
     ]
    }
   ],
   "source": [
    "# Modifying values\n",
    "alien_0 = {'color': 'green', 'points':5}\n",
    "print(alien_0)\n",
    "\n",
    "alien_0['color'] = 'yellow'\n",
    "alien_0['points'] = 10\n",
    "\n",
    "print(alien_0)"
   ]
  },
  {
   "cell_type": "code",
   "execution_count": 43,
   "metadata": {},
   "outputs": [
    {
     "name": "stdout",
     "output_type": "stream",
     "text": [
      "{'color': 'green', 'points': 5}\n",
      "{'color': 'green'}\n"
     ]
    }
   ],
   "source": [
    "# Removing key-value pair\n",
    "alien_0 = {'color': 'green', 'points':5}\n",
    "print(alien_0)\n",
    "\n",
    "del alien_0['points']\n",
    "print(alien_0)"
   ]
  },
  {
   "cell_type": "code",
   "execution_count": 44,
   "metadata": {},
   "outputs": [
    {
     "name": "stdout",
     "output_type": "stream",
     "text": [
      "Mary loves 18\n",
      "Tom loves 13\n"
     ]
    }
   ],
   "source": [
    "# Looping through all key_value pair\n",
    "fav_number = {'Mary':18,'Tom':13}\n",
    "for name, number in fav_number.items():\n",
    "    print(name + ' loves ' + str(number))"
   ]
  },
  {
   "cell_type": "code",
   "execution_count": 45,
   "metadata": {},
   "outputs": [
    {
     "name": "stdout",
     "output_type": "stream",
     "text": [
      "Mary loves a number.\n",
      "Tom loves a number.\n"
     ]
    }
   ],
   "source": [
    "# Looping through all keys\n",
    "fav_number = {'Mary':18,'Tom':13}\n",
    "for name in fav_number.keys():\n",
    "    print(name + ' loves a number.')"
   ]
  },
  {
   "cell_type": "code",
   "execution_count": 46,
   "metadata": {},
   "outputs": [
    {
     "name": "stdout",
     "output_type": "stream",
     "text": [
      "18 is a favourite\n",
      "13 is a favourite\n"
     ]
    }
   ],
   "source": [
    "# Looping through all values\n",
    "fav_number = {'Mary':18,'Tom':13}\n",
    "for number in fav_number.values():\n",
    "    print(str(number) + ' is a favourite')"
   ]
  },
  {
   "cell_type": "markdown",
   "metadata": {},
   "source": [
    "## Dictionary Extension: Nesting - A list of Dictionary\n",
    "- store a set of dictionaires in a list"
   ]
  },
  {
   "cell_type": "code",
   "execution_count": 47,
   "metadata": {},
   "outputs": [
    {
     "name": "stdout",
     "output_type": "stream",
     "text": [
      "[{'last': 'fermi', 'first': 'envico', 'username': 'efermi'}]\n"
     ]
    }
   ],
   "source": [
    "# Start with an empty list.\n",
    "users = []\n",
    "\n",
    "# Make a new user, and add them to the list.\n",
    "new_user = {\n",
    "    'last': 'fermi',\n",
    "    'first': 'envico',\n",
    "    'username': 'efermi',\n",
    "}\n",
    "users.append(new_user)\n",
    "\n",
    "print(users)"
   ]
  },
  {
   "cell_type": "code",
   "execution_count": 48,
   "metadata": {},
   "outputs": [
    {
     "name": "stdout",
     "output_type": "stream",
     "text": [
      "[{'last': 'fermi', 'first': 'envico', 'username': 'efermi'}, {'last': 'curie', 'first': ',marie', 'username': 'mcurie'}]\n"
     ]
    }
   ],
   "source": [
    "# Make another new user, and add them as well\n",
    "new_user ={\n",
    "    'last': 'curie',\n",
    "    'first': ',marie',\n",
    "    'username': 'mcurie',\n",
    "    }\n",
    "\n",
    "users.append(new_user)\n",
    "    \n",
    "print(users)"
   ]
  },
  {
   "cell_type": "code",
   "execution_count": 49,
   "metadata": {},
   "outputs": [
    {
     "name": "stdout",
     "output_type": "stream",
     "text": [
      "last: fermi\n",
      "first: envico\n",
      "username: efermi\n",
      "\n",
      "\n",
      "last: curie\n",
      "first: ,marie\n",
      "username: mcurie\n",
      "\n",
      "\n"
     ]
    }
   ],
   "source": [
    "# Show all information about each user\n",
    "for user_dict in users:\n",
    "    for k, v in user_dict.items():\n",
    "        print(k + \": \" + v)\n",
    "    print('\\n')"
   ]
  },
  {
   "cell_type": "code",
   "execution_count": 1,
   "metadata": {},
   "outputs": [
    {
     "name": "stdout",
     "output_type": "stream",
     "text": [
      "last: fermi\n",
      "first: enrico\n",
      "username: efermi\n",
      "\n",
      "\n",
      "last: curie\n",
      "first: marie\n",
      "username: mcurie\n",
      "\n",
      "\n"
     ]
    }
   ],
   "source": [
    "# You can define a list of dictionaries directly without using append()\n",
    "users = [\n",
    "    {\n",
    "        'last': 'fermi',\n",
    "        'first': 'enrico',\n",
    "        'username': 'efermi',\n",
    "    },\n",
    "    {\n",
    "        'last': 'curie',\n",
    "        'first': 'marie',\n",
    "        'username': 'mcurie',\n",
    "        \n",
    "    },\n",
    "]\n",
    "\n",
    "# Show all information about each user\n",
    "for user_dict in users:\n",
    "    for k,v in user_dict.items(): # 记得读取字典要记得key和value\n",
    "        print(k +\": \" + v)\n",
    "    print(\"\\n\")\n",
    "        "
   ]
  },
  {
   "cell_type": "markdown",
   "metadata": {},
   "source": [
    "## Dictionary Extention: Nesting - Lists in a dictionary\n",
    "- Storing a list inside a dictionary allows you to associate more than one value with each key"
   ]
  },
  {
   "cell_type": "code",
   "execution_count": 2,
   "metadata": {},
   "outputs": [
    {
     "name": "stdout",
     "output_type": "stream",
     "text": [
      "jen: \n",
      "- python\n",
      "- ruby\n",
      "sarah: \n",
      "- c\n",
      "edward: \n",
      "- ruby\n",
      "- go\n",
      "phil: \n",
      "- python\n",
      "- haskell\n"
     ]
    }
   ],
   "source": [
    "# Store multiple languages for each person.\n",
    "fav_languages = {\n",
    "    'jen': ['python','ruby'],\n",
    "    'sarah': ['c'],\n",
    "    'edward': ['ruby','go'],\n",
    "    'phil': ['python', 'haskell'],\n",
    "}\n",
    "\n",
    "# show all response for each person\n",
    "for name, languages in fav_languages.items():\n",
    "    print(name + \": \")\n",
    "    for language in languages:\n",
    "        print(\"- \" + language)"
   ]
  },
  {
   "cell_type": "markdown",
   "metadata": {},
   "source": [
    "## Dictionary Extension: Nesting - A dictionary in a dictionary\n",
    "\n",
    "- You can store a dictionary inside another dictionary. In this case, each value associated with a key is itself a dictionary"
   ]
  },
  {
   "cell_type": "code",
   "execution_count": 13,
   "metadata": {},
   "outputs": [
    {
     "name": "stdout",
     "output_type": "stream",
     "text": [
      "\n",
      "Username: aeinstein\n",
      "\tFull name: Albert Einstein\n",
      "\tlocation: Princeton\n",
      "\n",
      "Username: mcurie\n",
      "\tFull name: Marie Curie\n",
      "\tlocation: Paris\n"
     ]
    }
   ],
   "source": [
    "# Storing dictionaries in a dictionary\n",
    "users = {\n",
    "    'aeinstein': {\n",
    "        'first': \"albert\",\n",
    "        'last': 'einstein',\n",
    "        'location': 'princeton',\n",
    "    },\n",
    "    'mcurie': {\n",
    "        'first': 'marie',\n",
    "        'last': 'curie',\n",
    "        'location': 'paris',\n",
    "    },\n",
    "        }\n",
    "\n",
    "for user_name, usr_dict in users.items():\n",
    "    print(\"\\nUsername: \" + user_name)\n",
    "    full_name = usr_dict['first'] + \" \"\n",
    "    full_name += usr_dict['last']\n",
    "    location = usr_dict['location']\n",
    "    \n",
    "    print(\"\\tFull name: \" + full_name.title())\n",
    "    print(\"\\tlocation: \" + location.title())"
   ]
  },
  {
   "cell_type": "markdown",
   "metadata": {},
   "source": [
    "## Reminder: Levels of nesting\n",
    "\n",
    "- Nesting is extremely useful in certain situations. However, be aware of making your code overly complex. If you are nesting item  much deeper than what you see here. There are probably simpler ways of managing your data, such as using classes"
   ]
  },
  {
   "cell_type": "markdown",
   "metadata": {},
   "source": [
    "## Dictionary Extension - Using an __OrderedDict__\n",
    "- Stand Python dictionaries do not keep track of the order in which keys and values are added; they only preserve the association between each key and its value. If you want to preserve the order in which keys and values are added, use an OrderedDict"
   ]
  },
  {
   "cell_type": "code",
   "execution_count": 14,
   "metadata": {},
   "outputs": [
    {
     "name": "stdout",
     "output_type": "stream",
     "text": [
      "jen: \n",
      "- python\n",
      "- ruby\n",
      "sarah: \n",
      "- c\n",
      "edward: \n",
      "- ruby\n",
      "- go\n",
      "phil: \n",
      "- python\n",
      "- haskell\n"
     ]
    }
   ],
   "source": [
    "from collections import OrderedDict\n",
    "\n",
    "# Store each person's languages, keeping\n",
    "# track of who responded first.\n",
    "fav_languages = OrderedDict()\n",
    "\n",
    "fav_languages['jen'] = ['python', 'ruby']\n",
    "fav_languages['sarah'] = ['c']\n",
    "fav_languages['edward'] = ['ruby', 'go']\n",
    "fav_languages['phil'] = ['python', 'haskell']\n",
    "\n",
    "# Display the results, in the same order they were entered.\n",
    "for name, langs in fav_languages.items():\n",
    "    print(name + \": \")\n",
    "    for lang in langs:\n",
    "        print(\"- \" + lang)"
   ]
  },
  {
   "cell_type": "markdown",
   "metadata": {},
   "source": [
    "## Generating a million dictionaries\n",
    "- You can use a loop to generate a large number of dictionaries efficiently, if all the dictionaries start out with similar data"
   ]
  },
  {
   "cell_type": "code",
   "execution_count": 15,
   "metadata": {},
   "outputs": [
    {
     "name": "stdout",
     "output_type": "stream",
     "text": [
      "Number of aliens created:\n",
      "1000000\n"
     ]
    }
   ],
   "source": [
    "aliens =[]\n",
    "\n",
    "# Make a million green aliens, worth 5 points\n",
    "# each has them all start in one row.\n",
    "for alien_num in range(1000000):\n",
    "    new_alien = {}\n",
    "    new_alien['color'] = 'green'\n",
    "    new_alien['points'] = 5\n",
    "    new_alien['x'] = 20 * alien_num\n",
    "    new_alien['y'] = 0\n",
    "    aliens.append(new_alien)\n",
    "\n",
    "# Prove the list contains a million aliens.\n",
    "num_aliens = len(aliens)\n",
    "\n",
    "print(\"Number of aliens created:\")\n",
    "print(num_aliens)"
   ]
  },
  {
   "cell_type": "markdown",
   "metadata": {},
   "source": [
    "## Classes\n",
    " \n",
    "- Classes are the foundation of object-oriented programming.\n",
    "- Classes represent real-world things you want to model in your program\n",
    "- Example: dogs, cars and robots\n",
    "- You can use a class to make objects, which are specific instances of dogs, cars, and robots\n",
    "- A class defines the general behavior that a whole category of objects can have, and the information that can be associated with those objects\n",
    "- Classes can inherit from each other - you can write a class that extends the functionality of an existing class\n",
    "- This allows you to code efficiently for a wide variety of situations"
   ]
  },
  {
   "cell_type": "markdown",
   "metadata": {},
   "source": [
    "### Naming convensions\n",
    "- class names are written in CamelCase \n",
    "- object names are written in lowercase with underscores\n",
    "- Modules that contain classes should still be named in lowercase with underscore"
   ]
  },
  {
   "cell_type": "markdown",
   "metadata": {},
   "source": [
    "### Creating and using a class\n",
    "\n",
    "Consider how we might model a car. What information would we associate with a car, and what behavior would it have?\n",
    "- The information stored in variables called attributes\n",
    "- The behavior is represented by functions, which are part of a class are called method"
   ]
  },
  {
   "cell_type": "code",
   "execution_count": 1,
   "metadata": {
    "collapsed": true
   },
   "outputs": [],
   "source": [
    "# 1. Create the Car class\n",
    "class Car():\n",
    "    \"\"\"A simple attempt to model a car.\"\"\"\n",
    "    \n",
    "    def __init__(self, make, model, year):\n",
    "        \"\"\"Initialize car attributes.\"\"\"\n",
    "        self.make = make\n",
    "        self.model = model\n",
    "        self.year = year\n",
    "        \n",
    "        # Fuel capacity and level in gallons.\n",
    "        self.fuel_capacity = 15\n",
    "        self.fuel_level = 0\n",
    "    \n",
    "    def fill_tank(self):\n",
    "        \"\"\"Fill gas tank to capacity\"\"\"\n",
    "        self.fuel_level = self.fuel_capacity\n",
    "        print(\"Fuel tank is full.\")\n",
    "    \n",
    "    def drive(self):\n",
    "        \"\"\"Simulate driving.\"\"\"\n",
    "        print(\"The car is moving.\")"
   ]
  },
  {
   "cell_type": "code",
   "execution_count": 2,
   "metadata": {
    "collapsed": true
   },
   "outputs": [],
   "source": [
    "# 2. Creating an object from a class\n",
    "my_car = Car('audi', 'a4', 2016)"
   ]
  },
  {
   "cell_type": "code",
   "execution_count": 3,
   "metadata": {},
   "outputs": [
    {
     "name": "stdout",
     "output_type": "stream",
     "text": [
      "audi\n",
      "a4\n",
      "2016\n"
     ]
    }
   ],
   "source": [
    "# 3. Accessing attribute values\n",
    "print(my_car.make)\n",
    "print(my_car.model)\n",
    "print(my_car.year)"
   ]
  },
  {
   "cell_type": "code",
   "execution_count": 4,
   "metadata": {},
   "outputs": [
    {
     "name": "stdout",
     "output_type": "stream",
     "text": [
      "Fuel tank is full.\n",
      "The car is moving.\n"
     ]
    }
   ],
   "source": [
    "# 4. Calling methods\n",
    "my_car.fill_tank()\n",
    "my_car.drive()"
   ]
  },
  {
   "cell_type": "code",
   "execution_count": 5,
   "metadata": {
    "collapsed": true
   },
   "outputs": [],
   "source": [
    "# 5. Creating multiple objects\n",
    "her_car = Car('benz', 'a5', 2018)\n",
    "my_old_car = Car('subaru', 'outback',2013)\n",
    "my_truck = Car('toyota', 'tacoma', 2010)"
   ]
  },
  {
   "cell_type": "markdown",
   "metadata": {},
   "source": [
    "### Modifying attributes\n",
    "You can modify an attribute's value directly, or you can write methods that manage updating values more carefully"
   ]
  },
  {
   "cell_type": "code",
   "execution_count": 7,
   "metadata": {
    "collapsed": true
   },
   "outputs": [],
   "source": [
    "# 1. Modifyinng an attribute directly\n",
    "my_new_car = Car('audi','a4', 2016)\n",
    "my_new_car.fuel_level = 5"
   ]
  },
  {
   "cell_type": "code",
   "execution_count": 9,
   "metadata": {
    "collapsed": true
   },
   "outputs": [],
   "source": [
    "# 2. Writing a method to update an attribute's value\n",
    "def update_fuel_level(self, new_level):\n",
    "    \"\"\"Update the fuel level.\"\"\"\n",
    "    if new_level <= self.fuel_capacity:\n",
    "        self.fuel_level = new_level\n",
    "    else:\n",
    "        print(\"The tank can't hold that much!\")"
   ]
  },
  {
   "cell_type": "code",
   "execution_count": 10,
   "metadata": {
    "collapsed": true
   },
   "outputs": [],
   "source": [
    "# 3. Writing a method to increment an attribute's value\n",
    "def add_fuel(self,amount):\n",
    "    \"\"\"Add fuel to the tank.\"\"\"\n",
    "    if (self.fuel_level + amount <= self.fuel_capacity):\n",
    "        self.fuel_level += amount\n",
    "        print(\"Added fuel.\")\n",
    "    else:\n",
    "        print(\"The tank won't hold that much\")"
   ]
  },
  {
   "cell_type": "markdown",
   "metadata": {},
   "source": [
    "### Class inheritance\n",
    "- If the class you are writing is a specialized version of another class, you can use inheritance\n",
    "- When one class inherits from another, it automatically takes on all the attributes and methods of the parent class\n",
    "- The child class is free to introduce new attribute and methods, and override attributes and methods of the parent class\n",
    "- To inherit from another class, include the name of the parent class in parentheses when defining the new class."
   ]
  },
  {
   "cell_type": "code",
   "execution_count": 11,
   "metadata": {
    "collapsed": true
   },
   "outputs": [],
   "source": [
    "# 1. The __init__() method for a child class\n",
    "class ElectricCar(Car):\n",
    "    \"\"\"A simple model of an electric car.\"\"\"\n",
    "    \n",
    "    def ___init__(self, make, model, year):\n",
    "        \"\"\"Initialize an electric car.\"\"\"\n",
    "        super().__init__(make, model, year)\n",
    "        \n",
    "        # Attributes specific to electric cars.\n",
    "        # Battery capacity in kWh.\n",
    "        self.battery_size = 70\n",
    "        # Charge level in %\n",
    "        self.charge_level = 0"
   ]
  },
  {
   "cell_type": "code",
   "execution_count": 13,
   "metadata": {
    "collapsed": true
   },
   "outputs": [],
   "source": [
    "# 2. Adding new methods to the child class\n",
    "class ElectricCar(Car):\n",
    "    def charge(self):\n",
    "        \"\"\"Fully charge the vehicle.\"\"\"\n",
    "        self.charge_level = 100\n",
    "        print(\"The vehicle is fully charged\")"
   ]
  },
  {
   "cell_type": "code",
   "execution_count": 14,
   "metadata": {},
   "outputs": [
    {
     "name": "stdout",
     "output_type": "stream",
     "text": [
      "The vehicle is fully charged\n",
      "The car is moving.\n"
     ]
    }
   ],
   "source": [
    "# 3. Using child and parent methods\n",
    "my_ecar = ElectricCar('tesla', 'model s', 2016)\n",
    "\n",
    "my_ecar.charge()\n",
    "my_ecar.drive() # child class inherit the method from the parent class"
   ]
  },
  {
   "cell_type": "code",
   "execution_count": 15,
   "metadata": {
    "collapsed": true
   },
   "outputs": [],
   "source": [
    "# Overriding parent methods\n",
    "class ElectricCar(Car):\n",
    "    def fill_tank(self):\n",
    "        \"\"\"Display an error message\"\"\"\n",
    "        print(\"This car has no fuel tank!\")"
   ]
  },
  {
   "cell_type": "markdown",
   "metadata": {},
   "source": [
    "### Instances as attributes\n",
    "\n",
    "A class can have objects as attributes. This allows classes to work together to model complex situations."
   ]
  },
  {
   "cell_type": "code",
   "execution_count": 16,
   "metadata": {
    "collapsed": true
   },
   "outputs": [],
   "source": [
    "# 1. A Battery class\n",
    "\n",
    "class Battery():\n",
    "    \"\"\"A battery for an electric car.\"\"\"\n",
    "    \n",
    "    def __init__(self, size=70):\n",
    "        \"\"\"Initialize battery attributes.\"\"\"\n",
    "        # Capacity in KWh, charge level in %.\n",
    "        self.size = size\n",
    "        self.charge_level = 0\n",
    "    \n",
    "    def get_range(self):\n",
    "        \"\"\"Return the battery's range.\"\"\"\n",
    "        if self.size == 70:\n",
    "            return 240\n",
    "        elif self.size == 85:\n",
    "            return 270"
   ]
  },
  {
   "cell_type": "code",
   "execution_count": 41,
   "metadata": {
    "collapsed": true
   },
   "outputs": [],
   "source": [
    "# 2. Using an instance as an attribute\n",
    "\n",
    "class ElectricCar(Car):\n",
    "    \n",
    "    def __init__(self, make, model, year):\n",
    "        \"\"\"Initialize an electric car.\"\"\"\n",
    "        super().__init__(make, model, year) # the way to inherit the parent class\n",
    "        \n",
    "        # Attribute specific to electric cars\n",
    "        self.battery = Battery()\n",
    "    \n",
    "    def charge(self):\n",
    "        \"\"\"Fully charge the vehicle.\"\"\"\n",
    "        self.battery.charge_level = 100\n",
    "        print(\"The vehicle is fully charged.\")"
   ]
  },
  {
   "cell_type": "code",
   "execution_count": 21,
   "metadata": {},
   "outputs": [
    {
     "name": "stdout",
     "output_type": "stream",
     "text": [
      "The vehicle is fully charged.\n",
      "<bound method Battery.get_range of <__main__.Battery object at 0x1040359e8>>\n"
     ]
    },
    {
     "data": {
      "text/plain": [
       "<bound method Car.drive of <__main__.ElectricCar object at 0x1040359b0>>"
      ]
     },
     "execution_count": 21,
     "metadata": {},
     "output_type": "execute_result"
    }
   ],
   "source": [
    "# 3. Using the instance\n",
    "my_ecar = ElectricCar('tesla', 'model x', 2016)\n",
    "\n",
    "my_ecar.charge()\n",
    "print((my_ecar.battery.get_range))\n",
    "my_ecar.drive"
   ]
  },
  {
   "cell_type": "markdown",
   "metadata": {},
   "source": [
    "### Importing classes\n",
    "- Class files can get along as you add detailed information and functionality.\n",
    "- To help keep your program files uncluttered, you can store your classes in modules and import the classes you need into your main program."
   ]
  },
  {
   "cell_type": "markdown",
   "metadata": {},
   "source": [
    "1. Storing all aforementioned classes in a file first (called car.py)"
   ]
  },
  {
   "cell_type": "code",
   "execution_count": 26,
   "metadata": {},
   "outputs": [
    {
     "name": "stdout",
     "output_type": "stream",
     "text": [
      "Fuel tank is full.\n",
      "The car is moving.\n",
      "The vehicle is fully charged.\n",
      "The car is moving.\n"
     ]
    }
   ],
   "source": [
    "# 2. Importing individual classes from a module\n",
    "\n",
    "from car import Car, ElectricCar # car is the name of module,the car.py file\n",
    "\n",
    "my_beetle = Car('volkswagen', 'beetle', 2016)\n",
    "my_beetle.fill_tank()\n",
    "my_beetle.drive()\n",
    "\n",
    "my_tesla = ElectricCar('tesla', 'model s', 2016)\n",
    "my_tesla.charge()\n",
    "my_tesla.drive()"
   ]
  },
  {
   "cell_type": "code",
   "execution_count": 29,
   "metadata": {},
   "outputs": [
    {
     "name": "stdout",
     "output_type": "stream",
     "text": [
      "Fuel tank is full.\n",
      "The car is moving.\n",
      "The vehicle is fully charged.\n",
      "The car is moving.\n"
     ]
    }
   ],
   "source": [
    "# 3. importing an entire module\n",
    "\n",
    "import car\n",
    "\n",
    "my_beetle = car.Car('volkswagen', 'beetle', 2016)\n",
    "my_beetle.fill_tank()\n",
    "my_beetle.drive()\n",
    "\n",
    "my_tesla = car.ElectricCar('tesla', 'model s', 2016)\n",
    "my_tesla.charge()\n",
    "my_tesla.drive()"
   ]
  },
  {
   "cell_type": "code",
   "execution_count": 31,
   "metadata": {
    "collapsed": true
   },
   "outputs": [],
   "source": [
    "# 4. Importing all classes from a module\n",
    "from car import *\n",
    "\n",
    "my_beetle = Car('volkswagen', 'beetle', 2016)"
   ]
  },
  {
   "cell_type": "markdown",
   "metadata": {},
   "source": [
    "## Classes in Python 2.7"
   ]
  },
  {
   "cell_type": "code",
   "execution_count": 39,
   "metadata": {},
   "outputs": [
    {
     "data": {
      "text/html": [
       "<img src=\"classes_python2.7.jpg\", width=400, height=400>"
      ],
      "text/plain": [
       "<IPython.core.display.HTML object>"
      ]
     },
     "metadata": {},
     "output_type": "display_data"
    }
   ],
   "source": [
    "%%html\n",
    "<img src=\"classes_python2.7.jpg\", width=400, height=400>"
   ]
  },
  {
   "cell_type": "markdown",
   "metadata": {},
   "source": [
    "## Storing objects in a list\n",
    "A list can hold as many items as you want, so you can make a large number of objects from a class and store them in a list"
   ]
  },
  {
   "cell_type": "code",
   "execution_count": 40,
   "metadata": {},
   "outputs": [
    {
     "name": "stdout",
     "output_type": "stream",
     "text": [
      "Fuel tank is full.\n",
      "Fuel tank is full.\n",
      "Fuel tank is full.\n",
      "Fuel tank is full.\n",
      "Fuel tank is full.\n",
      "Fuel tank is full.\n",
      "Fuel tank is full.\n",
      "Fuel tank is full.\n",
      "Fuel tank is full.\n",
      "Fuel tank is full.\n",
      "Fuel tank is full.\n",
      "Fuel tank is full.\n",
      "Fuel tank is full.\n",
      "Fuel tank is full.\n",
      "Fuel tank is full.\n",
      "Fuel tank is full.\n",
      "Fuel tank is full.\n",
      "Fuel tank is full.\n",
      "Fuel tank is full.\n",
      "Fuel tank is full.\n",
      "Fuel tank is full.\n",
      "Fuel tank is full.\n",
      "Fuel tank is full.\n",
      "Fuel tank is full.\n",
      "Fuel tank is full.\n",
      "Fuel tank is full.\n",
      "Fuel tank is full.\n",
      "Fuel tank is full.\n",
      "Fuel tank is full.\n",
      "Fuel tank is full.\n",
      "Fuel tank is full.\n",
      "Fuel tank is full.\n",
      "Fuel tank is full.\n",
      "Fuel tank is full.\n",
      "Fuel tank is full.\n",
      "Fuel tank is full.\n",
      "Fuel tank is full.\n",
      "Fuel tank is full.\n",
      "Fuel tank is full.\n",
      "Fuel tank is full.\n",
      "Fuel tank is full.\n",
      "Fuel tank is full.\n",
      "Fuel tank is full.\n",
      "Fuel tank is full.\n",
      "Fuel tank is full.\n",
      "Fuel tank is full.\n",
      "Fuel tank is full.\n",
      "Fuel tank is full.\n",
      "Fuel tank is full.\n",
      "Fuel tank is full.\n",
      "Fuel tank is full.\n",
      "Fuel tank is full.\n",
      "Fuel tank is full.\n",
      "Fuel tank is full.\n",
      "Fuel tank is full.\n",
      "Fuel tank is full.\n",
      "Fuel tank is full.\n",
      "Fuel tank is full.\n",
      "Fuel tank is full.\n",
      "Fuel tank is full.\n",
      "Fuel tank is full.\n",
      "Fuel tank is full.\n",
      "Fuel tank is full.\n",
      "Fuel tank is full.\n",
      "Fuel tank is full.\n",
      "Fuel tank is full.\n",
      "Fuel tank is full.\n",
      "Fuel tank is full.\n",
      "Fuel tank is full.\n",
      "Fuel tank is full.\n",
      "Fuel tank is full.\n",
      "Fuel tank is full.\n",
      "Fuel tank is full.\n",
      "Fuel tank is full.\n",
      "Fuel tank is full.\n",
      "Fuel tank is full.\n",
      "Fuel tank is full.\n",
      "Fuel tank is full.\n",
      "Fuel tank is full.\n",
      "Fuel tank is full.\n",
      "Fuel tank is full.\n",
      "Fuel tank is full.\n",
      "Fuel tank is full.\n",
      "Fuel tank is full.\n",
      "Fuel tank is full.\n",
      "Fuel tank is full.\n",
      "Fuel tank is full.\n",
      "Fuel tank is full.\n",
      "Fuel tank is full.\n",
      "Fuel tank is full.\n",
      "Fuel tank is full.\n",
      "Fuel tank is full.\n",
      "Fuel tank is full.\n",
      "Fuel tank is full.\n",
      "Fuel tank is full.\n",
      "Fuel tank is full.\n",
      "Fuel tank is full.\n",
      "Fuel tank is full.\n",
      "Fuel tank is full.\n",
      "Fuel tank is full.\n",
      "Fuel tank is full.\n",
      "Fuel tank is full.\n",
      "Fuel tank is full.\n",
      "Fuel tank is full.\n",
      "Fuel tank is full.\n",
      "Fuel tank is full.\n",
      "Fuel tank is full.\n",
      "Fuel tank is full.\n",
      "Fuel tank is full.\n",
      "Fuel tank is full.\n",
      "Fuel tank is full.\n",
      "Fuel tank is full.\n",
      "Fuel tank is full.\n",
      "Fuel tank is full.\n",
      "Fuel tank is full.\n",
      "Fuel tank is full.\n",
      "Fuel tank is full.\n",
      "Fuel tank is full.\n",
      "Fuel tank is full.\n",
      "Fuel tank is full.\n",
      "Fuel tank is full.\n",
      "Fuel tank is full.\n",
      "Fuel tank is full.\n",
      "Fuel tank is full.\n",
      "Fuel tank is full.\n",
      "Fuel tank is full.\n",
      "Fuel tank is full.\n",
      "Fuel tank is full.\n",
      "Fuel tank is full.\n",
      "Fuel tank is full.\n",
      "Fuel tank is full.\n",
      "Fuel tank is full.\n",
      "Fuel tank is full.\n",
      "Fuel tank is full.\n",
      "Fuel tank is full.\n",
      "Fuel tank is full.\n",
      "Fuel tank is full.\n",
      "Fuel tank is full.\n",
      "Fuel tank is full.\n",
      "Fuel tank is full.\n",
      "Fuel tank is full.\n",
      "Fuel tank is full.\n",
      "Fuel tank is full.\n",
      "Fuel tank is full.\n",
      "Fuel tank is full.\n",
      "Fuel tank is full.\n",
      "Fuel tank is full.\n",
      "Fuel tank is full.\n",
      "Fuel tank is full.\n",
      "Fuel tank is full.\n",
      "Fuel tank is full.\n",
      "Fuel tank is full.\n",
      "Fuel tank is full.\n",
      "Fuel tank is full.\n",
      "Fuel tank is full.\n",
      "Fuel tank is full.\n",
      "Fuel tank is full.\n",
      "Fuel tank is full.\n",
      "Fuel tank is full.\n",
      "Fuel tank is full.\n",
      "Fuel tank is full.\n",
      "Fuel tank is full.\n",
      "Fuel tank is full.\n",
      "Fuel tank is full.\n",
      "Fuel tank is full.\n",
      "Fuel tank is full.\n",
      "Fuel tank is full.\n",
      "Fuel tank is full.\n",
      "Fuel tank is full.\n",
      "Fuel tank is full.\n",
      "Fuel tank is full.\n",
      "Fuel tank is full.\n",
      "Fuel tank is full.\n",
      "Fuel tank is full.\n",
      "Fuel tank is full.\n",
      "Fuel tank is full.\n",
      "Fuel tank is full.\n",
      "Fuel tank is full.\n",
      "Fuel tank is full.\n",
      "Fuel tank is full.\n",
      "Fuel tank is full.\n",
      "Fuel tank is full.\n",
      "Fuel tank is full.\n",
      "Fuel tank is full.\n",
      "Fuel tank is full.\n",
      "Fuel tank is full.\n",
      "Fuel tank is full.\n",
      "Fuel tank is full.\n",
      "Fuel tank is full.\n",
      "Fuel tank is full.\n",
      "Fuel tank is full.\n",
      "Fuel tank is full.\n",
      "Fuel tank is full.\n",
      "Fuel tank is full.\n",
      "Fuel tank is full.\n",
      "Fuel tank is full.\n",
      "Fuel tank is full.\n",
      "Fuel tank is full.\n",
      "Fuel tank is full.\n",
      "Fuel tank is full.\n",
      "Fuel tank is full.\n",
      "Fuel tank is full.\n",
      "Fuel tank is full.\n",
      "Fuel tank is full.\n",
      "Fuel tank is full.\n",
      "Fuel tank is full.\n",
      "Fuel tank is full.\n",
      "Fuel tank is full.\n",
      "Fuel tank is full.\n",
      "Fuel tank is full.\n",
      "Fuel tank is full.\n",
      "Fuel tank is full.\n",
      "Fuel tank is full.\n",
      "Fuel tank is full.\n",
      "Fuel tank is full.\n",
      "Fuel tank is full.\n",
      "Fuel tank is full.\n",
      "Fuel tank is full.\n",
      "Fuel tank is full.\n",
      "Fuel tank is full.\n",
      "Fuel tank is full.\n",
      "Fuel tank is full.\n",
      "Fuel tank is full.\n",
      "Fuel tank is full.\n",
      "Fuel tank is full.\n",
      "Fuel tank is full.\n",
      "Fuel tank is full.\n",
      "Fuel tank is full.\n",
      "Fuel tank is full.\n",
      "Fuel tank is full.\n",
      "Fuel tank is full.\n",
      "Fuel tank is full.\n",
      "Fuel tank is full.\n",
      "Fuel tank is full.\n",
      "Fuel tank is full.\n",
      "Fuel tank is full.\n",
      "Fuel tank is full.\n",
      "Fuel tank is full.\n",
      "Fuel tank is full.\n",
      "Fuel tank is full.\n",
      "Fuel tank is full.\n",
      "Fuel tank is full.\n",
      "Fuel tank is full.\n",
      "Fuel tank is full.\n",
      "Fuel tank is full.\n",
      "Fuel tank is full.\n",
      "Fuel tank is full.\n",
      "Fuel tank is full.\n",
      "Fuel tank is full.\n",
      "Fuel tank is full.\n",
      "Fuel tank is full.\n",
      "Fuel tank is full.\n",
      "Fuel tank is full.\n",
      "Fuel tank is full.\n",
      "Fuel tank is full.\n",
      "Fuel tank is full.\n",
      "Fuel tank is full.\n",
      "Fuel tank is full.\n",
      "Fuel tank is full.\n",
      "Fuel tank is full.\n",
      "Fuel tank is full.\n",
      "Fuel tank is full.\n",
      "Fuel tank is full.\n",
      "Fuel tank is full.\n",
      "Fuel tank is full.\n",
      "Fuel tank is full.\n",
      "Fuel tank is full.\n",
      "Fuel tank is full.\n",
      "Fuel tank is full.\n",
      "Fuel tank is full.\n",
      "Fuel tank is full.\n",
      "Fuel tank is full.\n",
      "Fuel tank is full.\n",
      "Fuel tank is full.\n",
      "Fuel tank is full.\n",
      "Fuel tank is full.\n",
      "Fuel tank is full.\n",
      "Fuel tank is full.\n",
      "Fuel tank is full.\n",
      "Fuel tank is full.\n",
      "Fuel tank is full.\n",
      "Fuel tank is full.\n",
      "Fuel tank is full.\n",
      "Fuel tank is full.\n",
      "Fuel tank is full.\n",
      "Fuel tank is full.\n",
      "Fuel tank is full.\n",
      "Fuel tank is full.\n",
      "Fuel tank is full.\n",
      "Fuel tank is full.\n",
      "Fuel tank is full.\n",
      "Fuel tank is full.\n",
      "Fuel tank is full.\n",
      "Fuel tank is full.\n",
      "Fuel tank is full.\n",
      "Fuel tank is full.\n",
      "Fuel tank is full.\n",
      "Fuel tank is full.\n",
      "Fuel tank is full.\n",
      "Fuel tank is full.\n",
      "Fuel tank is full.\n",
      "Fuel tank is full.\n",
      "Fuel tank is full.\n",
      "Fuel tank is full.\n",
      "Fuel tank is full.\n",
      "Fuel tank is full.\n",
      "Fuel tank is full.\n",
      "Fuel tank is full.\n",
      "Fuel tank is full.\n",
      "Fuel tank is full.\n",
      "Fuel tank is full.\n",
      "Fuel tank is full.\n",
      "Fuel tank is full.\n",
      "Fuel tank is full.\n",
      "Fuel tank is full.\n",
      "Fuel tank is full.\n",
      "Fuel tank is full.\n",
      "Fuel tank is full.\n",
      "Fuel tank is full.\n",
      "Fuel tank is full.\n",
      "Fuel tank is full.\n",
      "Fuel tank is full.\n",
      "Fuel tank is full.\n",
      "Fuel tank is full.\n",
      "Fuel tank is full.\n",
      "Fuel tank is full.\n",
      "Fuel tank is full.\n",
      "Fuel tank is full.\n",
      "Fuel tank is full.\n",
      "Fuel tank is full.\n",
      "Fuel tank is full.\n",
      "Fuel tank is full.\n",
      "Fuel tank is full.\n",
      "Fuel tank is full.\n",
      "Fuel tank is full.\n",
      "Fuel tank is full.\n",
      "Fuel tank is full.\n",
      "Fuel tank is full.\n",
      "Fuel tank is full.\n",
      "Fuel tank is full.\n",
      "Fuel tank is full.\n",
      "Fuel tank is full.\n",
      "Fuel tank is full.\n",
      "Fuel tank is full.\n",
      "Fuel tank is full.\n",
      "Fuel tank is full.\n",
      "Fuel tank is full.\n",
      "Fuel tank is full.\n",
      "Fuel tank is full.\n",
      "Fuel tank is full.\n",
      "Fuel tank is full.\n",
      "Fuel tank is full.\n",
      "Fuel tank is full.\n",
      "Fuel tank is full.\n",
      "Fuel tank is full.\n",
      "Fuel tank is full.\n",
      "Fuel tank is full.\n",
      "Fuel tank is full.\n",
      "Fuel tank is full.\n",
      "Fuel tank is full.\n",
      "Fuel tank is full.\n",
      "Fuel tank is full.\n",
      "Fuel tank is full.\n",
      "Fuel tank is full.\n",
      "Fuel tank is full.\n",
      "Fuel tank is full.\n",
      "Fuel tank is full.\n",
      "Fuel tank is full.\n",
      "Fuel tank is full.\n",
      "Fuel tank is full.\n",
      "Fuel tank is full.\n",
      "Fuel tank is full.\n",
      "Fuel tank is full.\n",
      "Fuel tank is full.\n",
      "Fuel tank is full.\n",
      "Fuel tank is full.\n",
      "Fuel tank is full.\n",
      "Fuel tank is full.\n",
      "Fuel tank is full.\n",
      "Fuel tank is full.\n",
      "Fuel tank is full.\n",
      "Fuel tank is full.\n",
      "Fuel tank is full.\n",
      "Fuel tank is full.\n",
      "Fuel tank is full.\n",
      "Fuel tank is full.\n",
      "Fuel tank is full.\n",
      "Fuel tank is full.\n",
      "Fuel tank is full.\n",
      "Fuel tank is full.\n",
      "Fuel tank is full.\n",
      "Fuel tank is full.\n",
      "Fuel tank is full.\n",
      "Fuel tank is full.\n",
      "Fuel tank is full.\n",
      "Fuel tank is full.\n",
      "Fuel tank is full.\n",
      "Fuel tank is full.\n",
      "Fuel tank is full.\n",
      "Fuel tank is full.\n",
      "Fuel tank is full.\n",
      "Fuel tank is full.\n",
      "Fuel tank is full.\n",
      "Fuel tank is full.\n",
      "Fuel tank is full.\n",
      "Fuel tank is full.\n",
      "Fuel tank is full.\n",
      "Fuel tank is full.\n",
      "Fuel tank is full.\n",
      "Fuel tank is full.\n",
      "Fuel tank is full.\n",
      "Fuel tank is full.\n",
      "Fuel tank is full.\n",
      "Fuel tank is full.\n",
      "Fuel tank is full.\n",
      "Fuel tank is full.\n",
      "Fuel tank is full.\n",
      "Fuel tank is full.\n",
      "Fuel tank is full.\n",
      "Fuel tank is full.\n",
      "Fuel tank is full.\n",
      "Fuel tank is full.\n",
      "Fuel tank is full.\n",
      "Fuel tank is full.\n",
      "Fuel tank is full.\n",
      "Fuel tank is full.\n",
      "Fuel tank is full.\n",
      "Fuel tank is full.\n",
      "Fuel tank is full.\n",
      "Fuel tank is full.\n",
      "Fuel tank is full.\n",
      "Fuel tank is full.\n",
      "Fuel tank is full.\n",
      "Fuel tank is full.\n",
      "Fuel tank is full.\n",
      "Fuel tank is full.\n",
      "Fuel tank is full.\n",
      "Fuel tank is full.\n",
      "Fuel tank is full.\n",
      "Fuel tank is full.\n",
      "Fuel tank is full.\n",
      "Fuel tank is full.\n",
      "Fuel tank is full.\n",
      "Fuel tank is full.\n",
      "Fuel tank is full.\n",
      "Fuel tank is full.\n",
      "Fuel tank is full.\n",
      "Fuel tank is full.\n",
      "Fuel tank is full.\n",
      "Fuel tank is full.\n",
      "Fuel tank is full.\n",
      "Fuel tank is full.\n",
      "Fuel tank is full.\n",
      "Fuel tank is full.\n",
      "Fuel tank is full.\n",
      "Fuel tank is full.\n",
      "Fuel tank is full.\n",
      "Fuel tank is full.\n",
      "Fuel tank is full.\n",
      "Fuel tank is full.\n",
      "Fuel tank is full.\n",
      "Fuel tank is full.\n",
      "Fuel tank is full.\n",
      "Fuel tank is full.\n",
      "Fuel tank is full.\n",
      "Fuel tank is full.\n",
      "Fuel tank is full.\n",
      "Fuel tank is full.\n",
      "Fuel tank is full.\n",
      "Fuel tank is full.\n",
      "Fuel tank is full.\n",
      "Fuel tank is full.\n",
      "Fuel tank is full.\n",
      "Fuel tank is full.\n",
      "Fuel tank is full.\n",
      "Fuel tank is full.\n",
      "Fuel tank is full.\n",
      "Fuel tank is full.\n",
      "Fuel tank is full.\n",
      "Fuel tank is full.\n",
      "Fuel tank is full.\n",
      "Fuel tank is full.\n",
      "Fuel tank is full.\n",
      "Fuel tank is full.\n",
      "Fuel tank is full.\n",
      "Fuel tank is full.\n",
      "Fuel tank is full.\n",
      "Fuel tank is full.\n",
      "Fuel tank is full.\n",
      "Fuel tank is full.\n",
      "Fuel tank is full.\n",
      "Fuel tank is full.\n",
      "Fuel tank is full.\n",
      "Fuel tank is full.\n",
      "Fuel tank is full.\n",
      "Fuel tank is full.\n",
      "Fuel tank is full.\n",
      "Fuel tank is full.\n",
      "Fuel tank is full.\n",
      "Fuel tank is full.\n",
      "The vehicle is fully charged.\n",
      "The vehicle is fully charged.\n",
      "The vehicle is fully charged.\n",
      "The vehicle is fully charged.\n",
      "The vehicle is fully charged.\n",
      "The vehicle is fully charged.\n",
      "The vehicle is fully charged.\n",
      "The vehicle is fully charged.\n",
      "The vehicle is fully charged.\n",
      "The vehicle is fully charged.\n",
      "The vehicle is fully charged.\n",
      "The vehicle is fully charged.\n",
      "The vehicle is fully charged.\n",
      "The vehicle is fully charged.\n",
      "The vehicle is fully charged.\n",
      "The vehicle is fully charged.\n",
      "The vehicle is fully charged.\n",
      "The vehicle is fully charged.\n",
      "The vehicle is fully charged.\n",
      "The vehicle is fully charged.\n",
      "The vehicle is fully charged.\n",
      "The vehicle is fully charged.\n",
      "The vehicle is fully charged.\n",
      "The vehicle is fully charged.\n",
      "The vehicle is fully charged.\n",
      "The vehicle is fully charged.\n",
      "The vehicle is fully charged.\n",
      "The vehicle is fully charged.\n",
      "The vehicle is fully charged.\n",
      "The vehicle is fully charged.\n",
      "The vehicle is fully charged.\n",
      "The vehicle is fully charged.\n",
      "The vehicle is fully charged.\n",
      "The vehicle is fully charged.\n",
      "The vehicle is fully charged.\n",
      "The vehicle is fully charged.\n",
      "The vehicle is fully charged.\n",
      "The vehicle is fully charged.\n",
      "The vehicle is fully charged.\n",
      "The vehicle is fully charged.\n",
      "The vehicle is fully charged.\n",
      "The vehicle is fully charged.\n",
      "The vehicle is fully charged.\n",
      "The vehicle is fully charged.\n",
      "The vehicle is fully charged.\n",
      "The vehicle is fully charged.\n",
      "The vehicle is fully charged.\n",
      "The vehicle is fully charged.\n",
      "The vehicle is fully charged.\n",
      "The vehicle is fully charged.\n",
      "The vehicle is fully charged.\n",
      "The vehicle is fully charged.\n",
      "The vehicle is fully charged.\n",
      "The vehicle is fully charged.\n",
      "The vehicle is fully charged.\n",
      "The vehicle is fully charged.\n",
      "The vehicle is fully charged.\n",
      "The vehicle is fully charged.\n",
      "The vehicle is fully charged.\n",
      "The vehicle is fully charged.\n",
      "The vehicle is fully charged.\n",
      "The vehicle is fully charged.\n",
      "The vehicle is fully charged.\n",
      "The vehicle is fully charged.\n",
      "The vehicle is fully charged.\n",
      "The vehicle is fully charged.\n",
      "The vehicle is fully charged.\n",
      "The vehicle is fully charged.\n",
      "The vehicle is fully charged.\n",
      "The vehicle is fully charged.\n",
      "The vehicle is fully charged.\n",
      "The vehicle is fully charged.\n",
      "The vehicle is fully charged.\n",
      "The vehicle is fully charged.\n",
      "The vehicle is fully charged.\n",
      "The vehicle is fully charged.\n",
      "The vehicle is fully charged.\n",
      "The vehicle is fully charged.\n",
      "The vehicle is fully charged.\n",
      "The vehicle is fully charged.\n",
      "The vehicle is fully charged.\n",
      "The vehicle is fully charged.\n",
      "The vehicle is fully charged.\n",
      "The vehicle is fully charged.\n",
      "The vehicle is fully charged.\n",
      "The vehicle is fully charged.\n",
      "The vehicle is fully charged.\n",
      "The vehicle is fully charged.\n",
      "The vehicle is fully charged.\n",
      "The vehicle is fully charged.\n",
      "The vehicle is fully charged.\n",
      "The vehicle is fully charged.\n",
      "The vehicle is fully charged.\n",
      "The vehicle is fully charged.\n",
      "The vehicle is fully charged.\n",
      "The vehicle is fully charged.\n",
      "The vehicle is fully charged.\n",
      "The vehicle is fully charged.\n",
      "The vehicle is fully charged.\n",
      "The vehicle is fully charged.\n"
     ]
    },
    {
     "name": "stdout",
     "output_type": "stream",
     "text": [
      "The vehicle is fully charged.\n",
      "The vehicle is fully charged.\n",
      "The vehicle is fully charged.\n",
      "The vehicle is fully charged.\n",
      "The vehicle is fully charged.\n",
      "The vehicle is fully charged.\n",
      "The vehicle is fully charged.\n",
      "The vehicle is fully charged.\n",
      "The vehicle is fully charged.\n",
      "The vehicle is fully charged.\n",
      "The vehicle is fully charged.\n",
      "The vehicle is fully charged.\n",
      "The vehicle is fully charged.\n",
      "The vehicle is fully charged.\n",
      "The vehicle is fully charged.\n",
      "The vehicle is fully charged.\n",
      "The vehicle is fully charged.\n",
      "The vehicle is fully charged.\n",
      "The vehicle is fully charged.\n",
      "The vehicle is fully charged.\n",
      "The vehicle is fully charged.\n",
      "The vehicle is fully charged.\n",
      "The vehicle is fully charged.\n",
      "The vehicle is fully charged.\n",
      "The vehicle is fully charged.\n",
      "The vehicle is fully charged.\n",
      "The vehicle is fully charged.\n",
      "The vehicle is fully charged.\n",
      "The vehicle is fully charged.\n",
      "The vehicle is fully charged.\n",
      "The vehicle is fully charged.\n",
      "The vehicle is fully charged.\n",
      "The vehicle is fully charged.\n",
      "The vehicle is fully charged.\n",
      "The vehicle is fully charged.\n",
      "The vehicle is fully charged.\n",
      "The vehicle is fully charged.\n",
      "The vehicle is fully charged.\n",
      "The vehicle is fully charged.\n",
      "The vehicle is fully charged.\n",
      "The vehicle is fully charged.\n",
      "The vehicle is fully charged.\n",
      "The vehicle is fully charged.\n",
      "The vehicle is fully charged.\n",
      "The vehicle is fully charged.\n",
      "The vehicle is fully charged.\n",
      "The vehicle is fully charged.\n",
      "The vehicle is fully charged.\n",
      "The vehicle is fully charged.\n",
      "The vehicle is fully charged.\n",
      "The vehicle is fully charged.\n",
      "The vehicle is fully charged.\n",
      "The vehicle is fully charged.\n",
      "The vehicle is fully charged.\n",
      "The vehicle is fully charged.\n",
      "The vehicle is fully charged.\n",
      "The vehicle is fully charged.\n",
      "The vehicle is fully charged.\n",
      "The vehicle is fully charged.\n",
      "The vehicle is fully charged.\n",
      "The vehicle is fully charged.\n",
      "The vehicle is fully charged.\n",
      "The vehicle is fully charged.\n",
      "The vehicle is fully charged.\n",
      "The vehicle is fully charged.\n",
      "The vehicle is fully charged.\n",
      "The vehicle is fully charged.\n",
      "The vehicle is fully charged.\n",
      "The vehicle is fully charged.\n",
      "The vehicle is fully charged.\n",
      "The vehicle is fully charged.\n",
      "The vehicle is fully charged.\n",
      "The vehicle is fully charged.\n",
      "The vehicle is fully charged.\n",
      "The vehicle is fully charged.\n",
      "The vehicle is fully charged.\n",
      "The vehicle is fully charged.\n",
      "The vehicle is fully charged.\n",
      "The vehicle is fully charged.\n",
      "The vehicle is fully charged.\n",
      "The vehicle is fully charged.\n",
      "The vehicle is fully charged.\n",
      "The vehicle is fully charged.\n",
      "The vehicle is fully charged.\n",
      "The vehicle is fully charged.\n",
      "The vehicle is fully charged.\n",
      "The vehicle is fully charged.\n",
      "The vehicle is fully charged.\n",
      "The vehicle is fully charged.\n",
      "The vehicle is fully charged.\n",
      "The vehicle is fully charged.\n",
      "The vehicle is fully charged.\n",
      "The vehicle is fully charged.\n",
      "The vehicle is fully charged.\n",
      "The vehicle is fully charged.\n",
      "The vehicle is fully charged.\n",
      "The vehicle is fully charged.\n",
      "The vehicle is fully charged.\n",
      "The vehicle is fully charged.\n",
      "The vehicle is fully charged.\n",
      "The vehicle is fully charged.\n",
      "The vehicle is fully charged.\n",
      "The vehicle is fully charged.\n",
      "The vehicle is fully charged.\n",
      "The vehicle is fully charged.\n",
      "The vehicle is fully charged.\n",
      "The vehicle is fully charged.\n",
      "The vehicle is fully charged.\n",
      "The vehicle is fully charged.\n",
      "The vehicle is fully charged.\n",
      "The vehicle is fully charged.\n",
      "The vehicle is fully charged.\n",
      "The vehicle is fully charged.\n",
      "The vehicle is fully charged.\n",
      "The vehicle is fully charged.\n",
      "The vehicle is fully charged.\n",
      "The vehicle is fully charged.\n",
      "The vehicle is fully charged.\n",
      "The vehicle is fully charged.\n",
      "The vehicle is fully charged.\n",
      "The vehicle is fully charged.\n",
      "The vehicle is fully charged.\n",
      "The vehicle is fully charged.\n",
      "The vehicle is fully charged.\n",
      "The vehicle is fully charged.\n",
      "The vehicle is fully charged.\n",
      "The vehicle is fully charged.\n",
      "The vehicle is fully charged.\n",
      "The vehicle is fully charged.\n",
      "The vehicle is fully charged.\n",
      "The vehicle is fully charged.\n",
      "The vehicle is fully charged.\n",
      "The vehicle is fully charged.\n",
      "The vehicle is fully charged.\n",
      "The vehicle is fully charged.\n",
      "The vehicle is fully charged.\n",
      "The vehicle is fully charged.\n",
      "The vehicle is fully charged.\n",
      "The vehicle is fully charged.\n",
      "The vehicle is fully charged.\n",
      "The vehicle is fully charged.\n",
      "The vehicle is fully charged.\n",
      "The vehicle is fully charged.\n",
      "The vehicle is fully charged.\n",
      "The vehicle is fully charged.\n",
      "The vehicle is fully charged.\n",
      "The vehicle is fully charged.\n",
      "The vehicle is fully charged.\n",
      "The vehicle is fully charged.\n",
      "The vehicle is fully charged.\n",
      "Gas cars: 500\n",
      "Electric cars: 250\n"
     ]
    }
   ],
   "source": [
    "# A fleet of rental cars\n",
    "from car import Car, ElectricCar\n",
    "\n",
    "# Make lists to hold a fleet of cars.\n",
    "gas_fleet=[]\n",
    "electric_fleet=[]\n",
    "\n",
    "# Make 500 gas cars aand 250 electric cars.\n",
    "for car in range(500):\n",
    "    car = Car('ford', 'focus', 2016)\n",
    "    gas_fleet.append(car)\n",
    "for ecar in range(250):\n",
    "    ecar = ElectricCar('nissan', 'leaf', 2016)\n",
    "    electric_fleet.append(ecar)\n",
    "\n",
    "# Fill the gas cars, and charge electric cars.\n",
    "for car in gas_fleet:\n",
    "    car.fill_tank()\n",
    "for ecar in electric_fleet:\n",
    "    ecar.charge()\n",
    "\n",
    "print(\"Gas cars:\", len(gas_fleet))\n",
    "print(\"Electric cars:\", len(electric_fleet))\n",
    "    "
   ]
  },
  {
   "cell_type": "markdown",
   "metadata": {},
   "source": [
    "### Conditional Tests\n",
    "\n",
    "- If statemetns are used to test for particular conditions and respond appropriately"
   ]
  },
  {
   "cell_type": "code",
   "execution_count": 50,
   "metadata": {},
   "outputs": [
    {
     "data": {
      "text/plain": [
       "True"
      ]
     },
     "execution_count": 50,
     "metadata": {},
     "output_type": "execute_result"
    }
   ],
   "source": [
    "# Checking for equality, inequality\n",
    "x = 10\n",
    "x == 40 # equals\n",
    "x != 40 # not equal\n",
    "x > 40 # larger\n",
    "x >= 40 # larger or equal to\n",
    "x < 40 # smaller\n",
    "x <= 40 # smaller or equal to"
   ]
  },
  {
   "cell_type": "code",
   "execution_count": 47,
   "metadata": {},
   "outputs": [
    {
     "name": "stdout",
     "output_type": "stream",
     "text": [
      "False\n",
      "True\n"
     ]
    }
   ],
   "source": [
    "# Checking multiple conditions\n",
    "age_0 = 22\n",
    "age_1 = 18\n",
    "# and\n",
    "print(age_0 >=21 and age_1 >= 21)\n",
    "# or\n",
    "print(age_0 >=21 or age_1 >=21)"
   ]
  },
  {
   "cell_type": "code",
   "execution_count": 51,
   "metadata": {
    "collapsed": true
   },
   "outputs": [],
   "source": [
    "# Boolean values (either True or False)\n",
    "game_active = True\n",
    "car_edit = False"
   ]
  },
  {
   "cell_type": "code",
   "execution_count": 59,
   "metadata": {},
   "outputs": [
    {
     "name": "stdout",
     "output_type": "stream",
     "text": [
      "False\n",
      "True\n",
      "False\n"
     ]
    }
   ],
   "source": [
    "# Condition test with list\n",
    "watches = ['g-shock','casio','swatch']\n",
    "print('tree' in watches)\n",
    "print('casio' in watches)\n",
    "# testing if a value is not in a list\n",
    "print('g-shock' not in watches)"
   ]
  },
  {
   "cell_type": "markdown",
   "metadata": {},
   "source": [
    "### If statements"
   ]
  },
  {
   "cell_type": "code",
   "execution_count": 54,
   "metadata": {},
   "outputs": [
    {
     "name": "stdout",
     "output_type": "stream",
     "text": [
      "You can vote\n"
     ]
    }
   ],
   "source": [
    "# A simple if statement\n",
    "age = 25\n",
    "if age > 18:\n",
    "    print('You can vote')"
   ]
  },
  {
   "cell_type": "code",
   "execution_count": 55,
   "metadata": {},
   "outputs": [
    {
     "name": "stdout",
     "output_type": "stream",
     "text": [
      "You cannot vote yet\n"
     ]
    }
   ],
   "source": [
    "# if-else statements\n",
    "age = 17\n",
    "\n",
    "if age >=18:\n",
    "    print(\"You are old enough to vote\")\n",
    "else:\n",
    "    print(\"You cannot vote yet\")"
   ]
  },
  {
   "cell_type": "code",
   "execution_count": 56,
   "metadata": {
    "collapsed": true
   },
   "outputs": [],
   "source": [
    "# if-elif-else statements\n",
    "age = 20\n",
    "if age < 4:\n",
    "    ticket_price = 0\n",
    "elif age < 18:\n",
    "    ticket_price = 10\n",
    "else:\n",
    "    ticket_price = 15"
   ]
  },
  {
   "cell_type": "code",
   "execution_count": 61,
   "metadata": {},
   "outputs": [
    {
     "name": "stdout",
     "output_type": "stream",
     "text": [
      "we have no players yet!\n"
     ]
    }
   ],
   "source": [
    "# checking if a list is empty\n",
    "players = []\n",
    "\n",
    "if players:\n",
    "    for player in players:\n",
    "        print(\"Player: \" + player.title())\n",
    "else:\n",
    "    print(\"we have no players yet!\")"
   ]
  },
  {
   "cell_type": "markdown",
   "metadata": {},
   "source": [
    "#### Accepting input\n",
    "You can allow your users to enter input using the input() statement. In Python 3, __all input is stored as a string__."
   ]
  },
  {
   "cell_type": "code",
   "execution_count": 62,
   "metadata": {},
   "outputs": [
    {
     "name": "stdout",
     "output_type": "stream",
     "text": [
      "What's your name?Mary\n",
      "Hello, Mary.\n"
     ]
    }
   ],
   "source": [
    "# simple input\n",
    "name = input(\"What's your name?\")\n",
    "print(\"Hello, \" + name + \".\")"
   ]
  },
  {
   "cell_type": "code",
   "execution_count": 63,
   "metadata": {},
   "outputs": [
    {
     "name": "stdout",
     "output_type": "stream",
     "text": [
      "How old are you?19\n",
      "\n",
      "You can vote!\n"
     ]
    }
   ],
   "source": [
    "# Accepting numerical input\n",
    "age = input(\"How old are you?\")\n",
    "age = int(age)\n",
    "\n",
    "if age >= 18:\n",
    "    print(\"\\nYou can vote!\")\n",
    "else:\n",
    "    print(\"\\nYou cannot vote yet.\")"
   ]
  },
  {
   "cell_type": "markdown",
   "metadata": {},
   "source": [
    "## Input in python2.7"
   ]
  },
  {
   "cell_type": "code",
   "execution_count": 66,
   "metadata": {},
   "outputs": [
    {
     "data": {
      "text/html": [
       "<img src='input_python2.7.jpg', width=300, height=300>"
      ],
      "text/plain": [
       "<IPython.core.display.HTML object>"
      ]
     },
     "metadata": {},
     "output_type": "display_data"
    }
   ],
   "source": [
    "%%html\n",
    "<img src='input_python2.7.jpg', width=300, height=300>"
   ]
  },
  {
   "cell_type": "markdown",
   "metadata": {},
   "source": [
    "## While loops\n",
    "\n",
    "- A while loop repeats a block of code as long as certain condition is true"
   ]
  },
  {
   "cell_type": "code",
   "execution_count": 67,
   "metadata": {},
   "outputs": [
    {
     "name": "stdout",
     "output_type": "stream",
     "text": [
      "1\n",
      "2\n",
      "3\n",
      "4\n",
      "5\n"
     ]
    }
   ],
   "source": [
    "# A simple while loop\n",
    "haha = 1\n",
    "while haha <= 5:\n",
    "    print(haha)\n",
    "    haha += 1\n",
    "    "
   ]
  },
  {
   "cell_type": "code",
   "execution_count": 69,
   "metadata": {},
   "outputs": [
    {
     "name": "stdout",
     "output_type": "stream",
     "text": [
      "prompthello\n",
      "hello\n",
      "promptloo\n",
      "loo\n",
      "prompthow are you\n",
      "how are you\n",
      "promptquit\n"
     ]
    }
   ],
   "source": [
    "# Letting the user choose when to quit\n",
    "prompt =\"\\nTell me something, and I'll\"\n",
    "prompt += \"repeat it back to you.\"\n",
    "prompt += \"\\nEnter 'quit' to end the program.\"\n",
    "\n",
    "msg = ''\n",
    "while msg != 'quit':\n",
    "    msg = input('prompt')\n",
    "    \n",
    "    if msg !='quit':\n",
    "        print(msg)"
   ]
  },
  {
   "cell_type": "code",
   "execution_count": 70,
   "metadata": {},
   "outputs": [
    {
     "name": "stdout",
     "output_type": "stream",
     "text": [
      "\n",
      "Tell me something, and I'llrepeat it back to you.\n",
      "Enter 'quit' to end the program.hello\n",
      "hello\n",
      "\n",
      "Tell me something, and I'llrepeat it back to you.\n",
      "Enter 'quit' to end the program.quit\n"
     ]
    }
   ],
   "source": [
    "# Using a flag\n",
    "prompt =\"\\nTell me something, and I'll\"\n",
    "prompt += \"repeat it back to you.\"\n",
    "prompt += \"\\nEnter 'quit' to end the program.\"\n",
    "\n",
    "active = True # this means the flag\n",
    "while active:\n",
    "    message = input(prompt)\n",
    "    \n",
    "    if message == \"quit\":\n",
    "        active = False\n",
    "    else:\n",
    "        print(message)"
   ]
  },
  {
   "cell_type": "markdown",
   "metadata": {},
   "source": [
    "## Breaking out of loops\n",
    "- You can use break to quit for a loop that is working through a list or a dictionary\n",
    "- You can continue to skip over certain items when looping through a list or dictionary as well"
   ]
  },
  {
   "cell_type": "code",
   "execution_count": 74,
   "metadata": {},
   "outputs": [
    {
     "name": "stdout",
     "output_type": "stream",
     "text": [
      "\n",
      "what cities have you visited?\n",
      "Enter quit when you are done.hello\n",
      "I have been to hello!\n",
      "\n",
      "what cities have you visited?\n",
      "Enter quit when you are done.Hong Kong\n",
      "I have been to Hong Kong!\n",
      "\n",
      "what cities have you visited?\n",
      "Enter quit when you are done.quit\n"
     ]
    }
   ],
   "source": [
    "# Using break to exit a loop\n",
    "prompt = '\\nwhat cities have you visited?'\n",
    "prompt += '\\nEnter quit when you are done.'\n",
    "\n",
    "while True:\n",
    "    city = input(prompt)\n",
    "    \n",
    "    if city == \"quit\":\n",
    "        break\n",
    "    else:\n",
    "        print(\"I have been to \" + city + \"!\")"
   ]
  },
  {
   "cell_type": "code",
   "execution_count": 77,
   "metadata": {},
   "outputs": [
    {
     "name": "stdout",
     "output_type": "stream",
     "text": [
      "\n",
      " Add a player to your team.\n",
      "Enter 'quit' when you 're done.eve\n",
      "eve is banned!\n",
      "\n",
      " Add a player to your team.\n",
      "Enter 'quit' when you 're done.tom\n",
      "\n",
      " Add a player to your team.\n",
      "Enter 'quit' when you 're done.mary\n",
      "\n",
      " Add a player to your team.\n",
      "Enter 'quit' when you 're done.mike\n",
      "\n",
      " Add a player to your team.\n",
      "Enter 'quit' when you 're done.quit\n",
      "\n",
      "Your team\n",
      "tom\n",
      "mary\n",
      "mike\n"
     ]
    }
   ],
   "source": [
    "# Using continue in a loop\n",
    "banned_users =['eve', 'fred', 'gary', 'helen']\n",
    "\n",
    "prompt = \"\\n Add a player to your team.\"\n",
    "prompt += \"\\nEnter \\'quit\\' when you \\'re done.\"\n",
    "\n",
    "players = []\n",
    "while True:\n",
    "    player = input(prompt)\n",
    "    if player == 'quit':\n",
    "        break\n",
    "    elif player in banned_users:\n",
    "        print(player + \" is banned!\")\n",
    "        continue\n",
    "    else:\n",
    "        players.append(player)\n",
    "\n",
    "print('\\nYour team')\n",
    "for player in players:\n",
    "    print(player)"
   ]
  },
  {
   "cell_type": "markdown",
   "metadata": {},
   "source": [
    "## Avoiding infinite loops\n",
    "Every while loop needs a way to stop running so it won't continue to run forever. If there is no way for the condition to become False, the loop will never stop running"
   ]
  },
  {
   "cell_type": "code",
   "execution_count": null,
   "metadata": {
    "collapsed": true
   },
   "outputs": [],
   "source": [
    "# Example of an infinite loop --> cannot run\n",
    "while True:\n",
    "    name = input(\"\\nWho are you?\")\n",
    "    print(\"Nice to meet you, \" + name + \"!\")"
   ]
  },
  {
   "cell_type": "markdown",
   "metadata": {},
   "source": [
    "## Removing all instances of a value from a list\n",
    "The remove() method removes a specific value from a list, but it only removes the first instance of the value you provide. You can use a while loop to remove all instance of a particular value."
   ]
  },
  {
   "cell_type": "code",
   "execution_count": 82,
   "metadata": {},
   "outputs": [
    {
     "name": "stdout",
     "output_type": "stream",
     "text": [
      "['dog', 'cat', 'dog', 'fish', 'cat', 'rabbit', 'cat']\n",
      "['dog', 'dog', 'fish', 'rabbit']\n"
     ]
    }
   ],
   "source": [
    "# Removing all cats from a list of pets\n",
    "pets = ['dog', 'cat', 'dog', 'fish', 'cat', 'rabbit', 'cat']\n",
    "\n",
    "print(pets)\n",
    "\n",
    "while 'cat' in pets:\n",
    "    pets.remove('cat')\n",
    "\n",
    "print(pets)"
   ]
  },
  {
   "cell_type": "markdown",
   "metadata": {},
   "source": [
    "## User input\n",
    "\n",
    "- Your programs can prompt the user for input. All input is stored as a string"
   ]
  },
  {
   "cell_type": "code",
   "execution_count": null,
   "metadata": {
    "collapsed": true
   },
   "outputs": [],
   "source": [
    "# Prompting for a value, 让用户输入的意思\n",
    "name = input(\"What's your name? \")\n",
    "print('Hello ' + name + '!')"
   ]
  },
  {
   "cell_type": "code",
   "execution_count": null,
   "metadata": {
    "collapsed": true
   },
   "outputs": [],
   "source": [
    "# Prompting for numerical input\n",
    "age = input(\"How old are you? \")\n",
    "age = int(age) # define age as integer type\n",
    "\n",
    "pi = input(\"What's the value of pi？ \")\n",
    "pi = float(pi)"
   ]
  },
  {
   "cell_type": "markdown",
   "metadata": {
    "collapsed": true
   },
   "source": [
    "## Functions\n",
    "\n",
    "- Functions are named blocks of code, designed to do one specific job. \n",
    "- Information passed to a function is called an __argument__\n",
    "- information received by a function is called a __parameter__"
   ]
  },
  {
   "cell_type": "markdown",
   "metadata": {},
   "source": [
    "### Defining a function\n",
    "\n",
    "- The first line of a function is its definition, marked by the keyword def.\n",
    "- THe name of the function is followed by a set of parentheses and a colon\n",
    "- A docstring, in triple quotes, describes what the function does. The body of a function is indented one level.\n",
    "- To call a function, give the name of the function followed by a set of parameters"
   ]
  },
  {
   "cell_type": "code",
   "execution_count": 83,
   "metadata": {},
   "outputs": [
    {
     "name": "stdout",
     "output_type": "stream",
     "text": [
      "Hello\n"
     ]
    }
   ],
   "source": [
    "# A simple function\n",
    "def greet_user():\n",
    "    \"\"\"Display a simple greeting.\"\"\"\n",
    "    print(\"Hello\")\n",
    "\n",
    "greet_user()"
   ]
  },
  {
   "cell_type": "markdown",
   "metadata": {},
   "source": [
    "### Passing information to a function\n",
    "- Arguments are included in parentheses after the function's name, and parameters arae listed in parenthese in the function's definition"
   ]
  },
  {
   "cell_type": "code",
   "execution_count": null,
   "metadata": {
    "collapsed": true
   },
   "outputs": [],
   "source": [
    "# Passing a single argument\n",
    "def greet_user(username):\n",
    "    \"\"\"Display a personalized greeting.\"\"\"\n",
    "    print(\"Hello, \" + username + \"!\")\n",
    "\n",
    "greet_user('Tommy')"
   ]
  },
  {
   "cell_type": "markdown",
   "metadata": {},
   "source": [
    "### Positional and keyword arguments\n",
    "\n",
    "- The two main kinds of arguments are positional and keyword arguments. - - When you use positional argument, Python matches the first argument in the functional call with the first parameter in the function definition, and so forth\n",
    "- With keyword argument, you specify which parameter each argument should be assigned to in the function call. \n",
    "- When you use keyword arguments, the order of the argument doesn't matter"
   ]
  },
  {
   "cell_type": "code",
   "execution_count": 87,
   "metadata": {},
   "outputs": [
    {
     "name": "stdout",
     "output_type": "stream",
     "text": [
      "\n",
      "I have a hamster.\n",
      "its name is harry.\n",
      "\n",
      "I have a dog.\n",
      "its name is willie.\n"
     ]
    }
   ],
   "source": [
    "# Using positional arguments\n",
    "def describe_pet(animal,name):\n",
    "    \"\"\"Display information about a pet.\"\"\"\n",
    "    print(\"\\nI have a \" + animal + \".\")\n",
    "    print(\"its name is \" + name + \".\")\n",
    "\n",
    "describe_pet('hamster', 'harry')\n",
    "describe_pet('dog', 'willie')"
   ]
  },
  {
   "cell_type": "code",
   "execution_count": 90,
   "metadata": {},
   "outputs": [
    {
     "name": "stdout",
     "output_type": "stream",
     "text": [
      "\n",
      "I have a hamster.\n",
      "Its name is harry.\n",
      "\n",
      "I have a dog.\n",
      "Its name is willie.\n"
     ]
    }
   ],
   "source": [
    "# Using keyword arguments\n",
    "def describe_pet(animal, name):\n",
    "    \"\"\"Display information about a pet.\"\"\"\n",
    "    print(\"\\nI have a \" + animal + \".\")\n",
    "    print(\"Its name is \" + name + \".\")\n",
    "\n",
    "#so that you can reverse the order of your argument\n",
    "describe_pet(animal = 'hamster', name = 'harry')\n",
    "describe_pet(name = 'willie', animal = 'dog')"
   ]
  },
  {
   "cell_type": "markdown",
   "metadata": {},
   "source": [
    "### Default values\n",
    "- You can provide a default value for a parameter.\n",
    "- When function calls omit this argument the default value will be used\n",
    "- Parameters with default values must be listed after parameters without default values in the function's definition, so positional arguments can still work correctly"
   ]
  },
  {
   "cell_type": "code",
   "execution_count": null,
   "metadata": {
    "collapsed": true
   },
   "outputs": [],
   "source": [
    "# Default values for parameters\n",
    "def make_pizza(topping='bacon'):\n",
    "    \"\"\"Make a single-topping pizza.\"\"\"\n",
    "    print(\"Have a \" + topping + \" pizza!\")\n",
    "\n",
    "make_pizza()\n",
    "make_pizza('shrimp')"
   ]
  },
  {
   "cell_type": "code",
   "execution_count": 91,
   "metadata": {
    "scrolled": true
   },
   "outputs": [
    {
     "name": "stdout",
     "output_type": "stream",
     "text": [
      "\n",
      "I have a hamster.\n",
      "Its name is harry.\n",
      "\n",
      "I have a snake.\n"
     ]
    }
   ],
   "source": [
    "# Using None to make an agrument optional\n",
    "def describe_pet(animal, name=None):\n",
    "    \"\"\"Display information about a pet\"\"\"\n",
    "    print(\"\\nI have a \" + animal + \".\")\n",
    "    if name:\n",
    "        print(\"Its name is \" + name + \".\")\n",
    "\n",
    "describe_pet('hamster', 'harry')\n",
    "describe_pet('snake')"
   ]
  },
  {
   "cell_type": "markdown",
   "metadata": {},
   "source": [
    "### Return values\n",
    "- A function can return a value or a set of values. \n",
    "- When a function returns a value, the calling line must provide a variable in which to store the return value. \n",
    "- A function stops running when it reaches a return statement"
   ]
  },
  {
   "cell_type": "code",
   "execution_count": 92,
   "metadata": {},
   "outputs": [
    {
     "name": "stdout",
     "output_type": "stream",
     "text": [
      "10\n"
     ]
    }
   ],
   "source": [
    "# Returning a value\n",
    "def add_number(x, y):\n",
    "    \"\"\"Add two numbers and return the sum.\"\"\"\n",
    "    return x + y\n",
    "\n",
    "sum = add_number(3,7) # must provide variable called \"sum\" to store the value\n",
    "print(sum)"
   ]
  },
  {
   "cell_type": "code",
   "execution_count": 93,
   "metadata": {},
   "outputs": [
    {
     "name": "stdout",
     "output_type": "stream",
     "text": [
      "{'first': 'jimi', 'last': 'hendrix'}\n"
     ]
    }
   ],
   "source": [
    "# Returning a dictionary\n",
    "def build_person(first, last):\n",
    "    \"\"\"Return a dictionary of information about a person\"\"\"\n",
    "    person = {'first': first, 'last': last}\n",
    "    return person\n",
    "\n",
    "musician = build_person('jimi', 'hendrix')\n",
    "print(musician)"
   ]
  },
  {
   "cell_type": "code",
   "execution_count": 95,
   "metadata": {},
   "outputs": [
    {
     "name": "stdout",
     "output_type": "stream",
     "text": [
      "{'first': 'jimi', 'last': 'hendrix', 'age': 27}\n",
      "{'first': 'janis', 'last': 'joplin'}\n"
     ]
    }
   ],
   "source": [
    "# Returning a dictionary with optional values\n",
    "def build_person(first, last, age=None):\n",
    "    \"\"\"Return a dictionary of information about a person\"\"\"\n",
    "    person = {\"first\": first, \"last\": last}\n",
    "    if age:\n",
    "        person['age'] = age\n",
    "    return person\n",
    "\n",
    "musician = build_person('jimi', 'hendrix', 27)\n",
    "print(musician)\n",
    "\n",
    "musician = build_person('janis', 'joplin')\n",
    "print(musician)"
   ]
  },
  {
   "cell_type": "markdown",
   "metadata": {},
   "source": [
    "### Passing a list to a function\n",
    "- you can pass a list as an argument to a function\n",
    "- function can work with the values in the list\n",
    "- Any changes the function makes to the list will affect the original list.\n",
    "- You can prevent a function from modifying a list by passing a copy of the list as an argument"
   ]
  },
  {
   "cell_type": "code",
   "execution_count": 96,
   "metadata": {},
   "outputs": [
    {
     "name": "stdout",
     "output_type": "stream",
     "text": [
      "Hello, hannah!\n",
      "Hello, ty!\n",
      "Hello, margot!\n"
     ]
    }
   ],
   "source": [
    "# Passing a list as an argument\n",
    "def greet_users(names):\n",
    "    \"\"\"Print a simple greeting to everyone\"\"\"\n",
    "    for name in names:\n",
    "        msg = \"Hello, \" + name + \"!\"\n",
    "        print(msg)\n",
    "\n",
    "usernames = ['hannah', 'ty', 'margot']\n",
    "greet_users(usernames)"
   ]
  },
  {
   "cell_type": "code",
   "execution_count": 98,
   "metadata": {},
   "outputs": [
    {
     "name": "stdout",
     "output_type": "stream",
     "text": [
      "Printing ring\n",
      "Printing pendant\n",
      "Printing phone case\n",
      "\n",
      "Unprinted: []\n",
      "Printed: ['ring', 'pendant', 'phone case']\n"
     ]
    }
   ],
   "source": [
    "# Allowing a function to modify a list\n",
    "# the following example sends aa list of models to a function for printing.\n",
    "# The original list is emptied, and the second one list is filled\n",
    "\n",
    "def print_models(unprinted, printed):\n",
    "    \"\"\"3rd print a set of models.\"\"\"\n",
    "    while unprinted:\n",
    "        current_model = unprinted.pop()\n",
    "        print(\"Printing \" + current_model)\n",
    "        printed.append(current_model)\n",
    "\n",
    "# Store some unprinted designs and print each of them\n",
    "unprinted = ['phone case', 'pendant', 'ring']\n",
    "printed = []\n",
    "print_models(unprinted, printed)\n",
    "\n",
    "print(\"\\nUnprinted:\", unprinted)\n",
    "print(\"Printed:\", printed)"
   ]
  },
  {
   "cell_type": "code",
   "execution_count": 99,
   "metadata": {},
   "outputs": [
    {
     "name": "stdout",
     "output_type": "stream",
     "text": [
      "Printing ring\n",
      "Printing pendant\n",
      "Printing phone case\n",
      "\n",
      "Unprinted: []\n",
      "Printed: ['ring', 'pendant', 'phone case']\n"
     ]
    }
   ],
   "source": [
    "# Prevent a function from modifying a list\n",
    "def print_models(unprinted, printed):\n",
    "    \"\"\"3rd print a set of models.\"\"\"\n",
    "    while unprinted:\n",
    "        current_model = unprinted.pop()\n",
    "        print(\"Printing \" + current_model)\n",
    "        printed.append(current_model)\n",
    "\n",
    "# Store some unprinted designs and print each of them\n",
    "original = ['phone case', 'pendant', 'ring']\n",
    "printed = []\n",
    "\n",
    "print_models(original[:], printed) # ***copy a list, so the original list remains unchanged\n",
    "print(\"\\nUnprinted:\", unprinted)\n",
    "print(\"Printed:\", printed)"
   ]
  },
  {
   "cell_type": "markdown",
   "metadata": {},
   "source": [
    "### Passing an arbitrary number of arguments\n",
    "- Sometimes you won't know how many argumetns a function will need to accept\n",
    "- Python allows you to collect an arbitrary number of arguments into one parameter using the *operator. \n",
    "- A parameter that accepts an arbitrary number of arguments must come last in the function definition\n",
    "- The \\** operator allows a parameter to collect an arbitrary number of keyword arguments "
   ]
  },
  {
   "cell_type": "code",
   "execution_count": 102,
   "metadata": {},
   "outputs": [
    {
     "name": "stdout",
     "output_type": "stream",
     "text": [
      "\n",
      "Making a small pizza.\n",
      "Toppings:\n",
      "- pepperoni\n",
      "\n",
      "Making a large pizza.\n",
      "Toppings:\n",
      "- bacon bits\n",
      "- pineapple\n",
      "\n",
      "Making a medium pizza.\n",
      "Toppings:\n",
      "- mushrooms\n",
      "- peppers\n",
      "- onions\n",
      "- extra cheese\n"
     ]
    }
   ],
   "source": [
    "# Collecting an arbitrary number of arguments\n",
    "def make_pizza(size, *toppings):\n",
    "    \"\"\"Make a pizza.\"\"\"\n",
    "    print(\"\\nMaking a \" + size + \" pizza.\")\n",
    "    print(\"Toppings:\")\n",
    "    for topping in toppings:\n",
    "        print(\"- \" + topping)\n",
    "\n",
    "# Make three pizzas with different toppings.\n",
    "make_pizza('small', 'pepperoni')\n",
    "make_pizza('large', 'bacon bits', 'pineapple')\n",
    "make_pizza('medium', 'mushrooms', 'peppers', 'onions', 'extra cheese')"
   ]
  },
  {
   "cell_type": "code",
   "execution_count": 100,
   "metadata": {},
   "outputs": [
    {
     "name": "stdout",
     "output_type": "stream",
     "text": [
      "{'first': 'albert', 'last': 'einstein', 'location': 'princeton'}\n",
      "{'first': 'marie', 'last': 'curie', 'location': 'paris', 'field': 'chemistry'}\n"
     ]
    }
   ],
   "source": [
    "# Collecting an arbitrary number of keyword arguments\n",
    "def build_profile(first, last, **user_info):\n",
    "    \"\"\"Build a user's profile dictionary.\"\"\"\n",
    "    # Build a dict with the required keys.\n",
    "    profile = {'first': first, 'last': last}\n",
    "    \n",
    "    # Add any other keys and values.\n",
    "    for key, value in user_info.items():\n",
    "        profile[key] = value\n",
    "        \n",
    "    return profile\n",
    "\n",
    "# Create two users with different kinds of information\n",
    "user_0 = build_profile('albert', 'einstein', location='princeton')\n",
    "user_1 = build_profile('marie', 'curie', location='paris', field = 'chemistry')\n",
    "\n",
    "print(user_0)\n",
    "print(user_1)"
   ]
  },
  {
   "cell_type": "markdown",
   "metadata": {},
   "source": [
    "### Modules\n",
    "\n",
    "- You can store your functions in a separate file called a module\n",
    "- then import the functions you need into the file containing your main program\n",
    "- This allows for cleaner program files. \n",
    "- Make sure your module is stored in the same directory as your main program\n"
   ]
  },
  {
   "cell_type": "markdown",
   "metadata": {},
   "source": [
    "##### 1. Storing a function in a module e.g. making_pizza.py"
   ]
  },
  {
   "cell_type": "code",
   "execution_count": 106,
   "metadata": {},
   "outputs": [
    {
     "name": "stdout",
     "output_type": "stream",
     "text": [
      "\n",
      "Making a medium pizza.\n",
      "Toppings:\n",
      "- pepperoni\n",
      "\n",
      "Making a small pizza.\n",
      "Toppings:\n",
      "- bacon\n",
      "- pineapple\n"
     ]
    }
   ],
   "source": [
    "# Importing an entire module (all functions in the module will be included)\n",
    "import making_pizza\n",
    "\n",
    "making_pizza.make_pizza('medium', 'pepperoni')\n",
    "making_pizza.make_pizza('small', 'bacon', 'pineapple')"
   ]
  },
  {
   "cell_type": "code",
   "execution_count": 107,
   "metadata": {},
   "outputs": [
    {
     "name": "stdout",
     "output_type": "stream",
     "text": [
      "\n",
      "Making a medium pizza.\n",
      "Toppings:\n",
      "- pepperoni\n",
      "\n",
      "Making a small pizza.\n",
      "Toppings:\n",
      "- bacon\n",
      "- pineapple\n"
     ]
    }
   ],
   "source": [
    "# Importing a specific function\n",
    "from making_pizza import make_pizza\n",
    "\n",
    "make_pizza('medium', 'pepperoni')\n",
    "make_pizza('small', 'bacon', 'pineapple')"
   ]
  },
  {
   "cell_type": "code",
   "execution_count": 109,
   "metadata": {},
   "outputs": [
    {
     "name": "stdout",
     "output_type": "stream",
     "text": [
      "\n",
      "Making a medium pizza.\n",
      "Toppings:\n",
      "- pepperoni\n",
      "\n",
      "Making a small pizza.\n",
      "Toppings:\n",
      "- bacon\n",
      "- pineapple\n"
     ]
    }
   ],
   "source": [
    "# Giving a module an alias\n",
    "import making_pizza as p\n",
    "\n",
    "p.make_pizza('medium', 'pepperoni')\n",
    "p.make_pizza('small', 'bacon', 'pineapple')"
   ]
  },
  {
   "cell_type": "code",
   "execution_count": 110,
   "metadata": {},
   "outputs": [
    {
     "name": "stdout",
     "output_type": "stream",
     "text": [
      "\n",
      "Making a medium pizza.\n",
      "Toppings:\n",
      "- pepperoni\n",
      "\n",
      "Making a small pizza.\n",
      "Toppings:\n",
      "- bacon\n",
      "- pineapple\n"
     ]
    }
   ],
   "source": [
    "# Giving a function an alias\n",
    "from making_pizza import make_pizza as mp\n",
    "\n",
    "mp('medium','pepperoni')\n",
    "mp('small', 'bacon', 'pineapple')"
   ]
  },
  {
   "cell_type": "code",
   "execution_count": 112,
   "metadata": {},
   "outputs": [
    {
     "name": "stdout",
     "output_type": "stream",
     "text": [
      "\n",
      "Making a medium pizza.\n",
      "Toppings:\n",
      "- pepperoni\n",
      "\n",
      "Making a small pizza.\n",
      "Toppings:\n",
      "- bacon\n",
      "- pineapple\n"
     ]
    }
   ],
   "source": [
    "# Importing all functions from a module\n",
    "# do not do this, because it can result in naming conflicts\n",
    "from making_pizza import *\n",
    "\n",
    "make_pizza('medium','pepperoni')\n",
    "make_pizza('small', 'bacon', 'pineapple')"
   ]
  },
  {
   "cell_type": "markdown",
   "metadata": {},
   "source": [
    "## Classes\n",
    "\n",
    "- A class defines the behavior of an object and the kind of information and objecct can store. __The information in a class is stored in attributes__ , and __functions that belong to a class are called methods__. A child claass inherits the attributes and methods from its parent class"
   ]
  },
  {
   "cell_type": "code",
   "execution_count": null,
   "metadata": {
    "collapsed": true
   },
   "outputs": [],
   "source": [
    "# Creating a dog class\n",
    "class Dog():\n",
    "    \"\"\"Represent a dog.\"\"\"\n",
    "    \n",
    "    def __init__(self, name):\n",
    "        self.name = name\n",
    "    \n",
    "    def sit(self):\n",
    "        \"\"\"Simulate sitting\"\"\"\n",
    "        print(self.name + \" is sitting.\")\n",
    "\n",
    "my_dog = Dog('Peso')\n",
    "\n",
    "print(my_dog.name + \" is a great dog!\")\n",
    "my_dog.sit()\n",
    "        \n",
    "        "
   ]
  },
  {
   "cell_type": "code",
   "execution_count": null,
   "metadata": {
    "collapsed": true
   },
   "outputs": [],
   "source": [
    "# Inheritance\n",
    "class SARDog(Dog):\n",
    "    \"\"\"Represent a search dog.\"\"\"\n",
    "    \n",
    "    def __init__(self, name):\n",
    "        \"\"\"Initialize the sardog.\"\"\"\n",
    "        super().__init__(name)\n",
    "    def search(self):\n",
    "        \"\"\"Simulate searching.\"\"\"\n",
    "        print(self.name + \" is searching.\")\n",
    "\n",
    "my_dog=SARDog('Willie')\n",
    "\n",
    "print(my_dog.name + \" is a search dog.\")\n",
    "my_dog.sit()\n",
    "my_dog.search()"
   ]
  },
  {
   "cell_type": "markdown",
   "metadata": {},
   "source": [
    "# Infinite skills: advice\n",
    "\n",
    "if you had infinite programming skills, what would you build?\n",
    "\n",
    "- As you're learning to program, it's helpful to think about the real world project you would like to create. It's a good habit to keep an \"idea\" notebook that you can refer to whenever you want to start a new project. If you haven't done so already, list your top 3 prioritized project"
   ]
  },
  {
   "cell_type": "markdown",
   "metadata": {},
   "source": [
    "## Tesing your code"
   ]
  },
  {
   "cell_type": "markdown",
   "metadata": {},
   "source": [
    "### Why test your code?\n",
    "- When you write a function or a class, you can also write testf fro that code\n",
    "- Testing proves that your code works as it's supposed to in the situation its designed to handle, and also when people use your programs in unexpected ways\n",
    "- Writing tests gives you confidence that your code will work correctly as more poeple begin to use your programs\n",
    "- You can also add new features to your programs and know that you haven't broken existing behaviou"
   ]
  },
  {
   "cell_type": "markdown",
   "metadata": {},
   "source": [
    "### What is a unit test?\n",
    "- It verifies that one specific aspect of your code works as it's supposed to\n",
    "- A test case is a collection of unit tests which verify your code's behavior in a wide variety of situations"
   ]
  },
  {
   "cell_type": "markdown",
   "metadata": {},
   "source": [
    "### Testing a function: A passing test\n",
    "- Python's unittnest module provides tools for testing your code."
   ]
  },
  {
   "cell_type": "code",
   "execution_count": 113,
   "metadata": {
    "collapsed": true
   },
   "outputs": [],
   "source": [
    "# 1. A function to test, which is stored in a module called full_names"
   ]
  },
  {
   "cell_type": "code",
   "execution_count": 114,
   "metadata": {},
   "outputs": [
    {
     "name": "stdout",
     "output_type": "stream",
     "text": [
      "Janis Joplin\n",
      "Bob Dylan\n"
     ]
    }
   ],
   "source": [
    "# 2. Using the function\n",
    "from full_names import get_full_name\n",
    "\n",
    "janis = get_full_name('janis', 'joplin')\n",
    "print(janis)\n",
    "\n",
    "bob = get_full_name('bob', 'dylan')\n",
    "print(bob)"
   ]
  },
  {
   "cell_type": "markdown",
   "metadata": {},
   "source": [
    "#### 3. Building a testcase with one unit test\n",
    "- To build a test case, make a class that inherits from unittest.\n",
    "TestCase and write methods that begin with test_. Save this as test_full_names.py"
   ]
  },
  {
   "cell_type": "code",
   "execution_count": 134,
   "metadata": {},
   "outputs": [
    {
     "data": {
      "text/html": [
       "<img src = 'test_case.jpg', width:100, height:100>\n",
       "# Python reports on each unit test in the test case\n",
       "# The dot reports a single passing test.\n",
       "# Python informs us that if ran 1 test in less than 0.001 seconds\n",
       "# OK lets us know that all unit tests in the test case passed"
      ],
      "text/plain": [
       "<IPython.core.display.HTML object>"
      ]
     },
     "metadata": {},
     "output_type": "display_data"
    }
   ],
   "source": [
    "%%html\n",
    "<img src = 'test_case.jpg', width:100, height:100>\n",
    "# Python reports on each unit test in the test case\n",
    "# The dot reports a single passing test.\n",
    "# Python informs us that if ran 1 test in less than 0.001 seconds\n",
    "# OK lets us know that all unit tests in the test case passed"
   ]
  },
  {
   "cell_type": "markdown",
   "metadata": {},
   "source": [
    "### Testing a function: A failing test\n",
    "- Failing tests are important; they tell you that a change in the code has affected existing behavior. When a test fails, you need to modify the code so the existing behavior still works"
   ]
  },
  {
   "cell_type": "markdown",
   "metadata": {},
   "source": [
    "#### Modifying the function\n",
    "- modify get_full_name() so it handles middle names, but we will do it in a way that breaks existing behavior"
   ]
  },
  {
   "cell_type": "code",
   "execution_count": 140,
   "metadata": {},
   "outputs": [
    {
     "ename": "TypeError",
     "evalue": "get_full_name() takes 2 positional arguments but 3 were given",
     "output_type": "error",
     "traceback": [
      "\u001b[0;31m---------------------------------------------------------------------------\u001b[0m",
      "\u001b[0;31mTypeError\u001b[0m                                 Traceback (most recent call last)",
      "\u001b[0;32m<ipython-input-140-4683297b2d76>\u001b[0m in \u001b[0;36m<module>\u001b[0;34m()\u001b[0m\n\u001b[1;32m      2\u001b[0m \u001b[0;32mfrom\u001b[0m \u001b[0mfull_names\u001b[0m \u001b[0;32mimport\u001b[0m \u001b[0mget_full_name\u001b[0m\u001b[0;34m\u001b[0m\u001b[0m\n\u001b[1;32m      3\u001b[0m \u001b[0;34m\u001b[0m\u001b[0m\n\u001b[0;32m----> 4\u001b[0;31m \u001b[0mjohn\u001b[0m \u001b[0;34m=\u001b[0m \u001b[0mget_full_name\u001b[0m\u001b[0;34m(\u001b[0m\u001b[0;34m'john'\u001b[0m\u001b[0;34m,\u001b[0m\u001b[0;34m'lee'\u001b[0m\u001b[0;34m,\u001b[0m\u001b[0;34m'hooker'\u001b[0m\u001b[0;34m)\u001b[0m\u001b[0;34m\u001b[0m\u001b[0m\n\u001b[0m\u001b[1;32m      5\u001b[0m \u001b[0mprint\u001b[0m\u001b[0;34m(\u001b[0m\u001b[0mjohn\u001b[0m\u001b[0;34m)\u001b[0m\u001b[0;34m\u001b[0m\u001b[0m\n\u001b[1;32m      6\u001b[0m \u001b[0;34m\u001b[0m\u001b[0m\n",
      "\u001b[0;31mTypeError\u001b[0m: get_full_name() takes 2 positional arguments but 3 were given"
     ]
    }
   ],
   "source": [
    "# Using the modified function --> not working \n",
    "from full_names import get_full_name\n",
    "\n",
    "john = get_full_name('john','lee','hooker')\n",
    "print(john)\n",
    "\n",
    "david = get_full_name('david','lee','roth')\n",
    "print(david)"
   ]
  },
  {
   "cell_type": "markdown",
   "metadata": {},
   "source": [
    "#### Running the test\n",
    "- when you change your code, it's important to run your existing tests. The will tell you whether the change you made affected existing behavior"
   ]
  },
  {
   "cell_type": "code",
   "execution_count": 141,
   "metadata": {},
   "outputs": [
    {
     "data": {
      "text/html": [
       "<img src='test_case_fail.jpg', width: 100, height: 100>"
      ],
      "text/plain": [
       "<IPython.core.display.HTML object>"
      ]
     },
     "metadata": {},
     "output_type": "display_data"
    }
   ],
   "source": [
    "%%html\n",
    "<img src='test_case_fail.jpg', width: 100, height: 100>"
   ]
  },
  {
   "cell_type": "markdown",
   "metadata": {},
   "source": [
    "#### Fixing the code\n",
    "- When a test fails, the code needs to be modified until the test passes again. Here we can make the middle name optional"
   ]
  },
  {
   "cell_type": "markdown",
   "metadata": {},
   "source": [
    "#### Running the test again\n",
    "- Now the test should pass again, which means our original functionality is still intact"
   ]
  },
  {
   "cell_type": "code",
   "execution_count": 142,
   "metadata": {},
   "outputs": [
    {
     "data": {
      "text/html": [
       "<img src='test_again.jpg', height:100, width:100>"
      ],
      "text/plain": [
       "<IPython.core.display.HTML object>"
      ]
     },
     "metadata": {},
     "output_type": "display_data"
    }
   ],
   "source": [
    "%%html\n",
    "<img src='test_again.jpg', height:100, width:100>"
   ]
  },
  {
   "cell_type": "markdown",
   "metadata": {},
   "source": [
    "### Adding new tests\n",
    "- You can add as many unit tests to a test case as you need. To write a new test, add a new method to your test case class. "
   ]
  },
  {
   "cell_type": "code",
   "execution_count": null,
   "metadata": {
    "collapsed": true
   },
   "outputs": [],
   "source": [
    "# Testing middle names\n",
    "# We've shown that get_full_name() works for first and last names\n",
    "# Let's test that it works for middle names as well\n"
   ]
  },
  {
   "cell_type": "code",
   "execution_count": 146,
   "metadata": {},
   "outputs": [
    {
     "data": {
      "text/html": [
       "<img src='test_middle.jpg',width:100,height:100>"
      ],
      "text/plain": [
       "<IPython.core.display.HTML object>"
      ]
     },
     "metadata": {},
     "output_type": "display_data"
    }
   ],
   "source": [
    "%%html\n",
    "<img src='test_middle.jpg',width:100,height:100>"
   ]
  },
  {
   "cell_type": "markdown",
   "metadata": {},
   "source": [
    "### A variety of assert methods\n",
    "- Python provides a number of assert methods you can use to test your code"
   ]
  },
  {
   "cell_type": "markdown",
   "metadata": {},
   "source": [
    "#### The code shown below cannot run in jupyter"
   ]
  },
  {
   "cell_type": "code",
   "execution_count": 149,
   "metadata": {
    "collapsed": true
   },
   "outputs": [],
   "source": [
    "# # vertify that a==b, or a!=b\n",
    "# assertEqual(a,b)\n",
    "# assertNotEqual(a, b)\n",
    "# # verify that x is True or x is False\n",
    "# assertTrue(x)\n",
    "# assertFalse(x)\n",
    "# #verify an item is in a list, or not in a list\n",
    "# assertIn(item, list)\n",
    "# assertNotIn(item, list)"
   ]
  },
  {
   "cell_type": "markdown",
   "metadata": {},
   "source": [
    "#### Testing a class\n",
    "- Testing a class is similar to testing a function, since you'll mostly be testing your methods"
   ]
  },
  {
   "cell_type": "markdown",
   "metadata": {},
   "source": [
    "- 1. Set up a class to test, and save it as accountant.py"
   ]
  },
  {
   "cell_type": "code",
   "execution_count": 153,
   "metadata": {},
   "outputs": [
    {
     "data": {
      "text/html": [
       "<img src = 'class_accountant.jpg', width: 100, height: 100>"
      ],
      "text/plain": [
       "<IPython.core.display.HTML object>"
      ]
     },
     "metadata": {},
     "output_type": "display_data"
    }
   ],
   "source": [
    "%%html\n",
    "<img src = 'class_accountant.jpg', width: 100, height: 100>"
   ]
  },
  {
   "cell_type": "markdown",
   "metadata": {},
   "source": [
    "- 2. Building a test case, which make sure we can start out with different initial balance, and save the file as test_accountant.pya"
   ]
  },
  {
   "cell_type": "code",
   "execution_count": 158,
   "metadata": {},
   "outputs": [
    {
     "data": {
      "text/html": [
       "<img src='test_accountant.jpg', width: 50, height: 50>"
      ],
      "text/plain": [
       "<IPython.core.display.HTML object>"
      ]
     },
     "metadata": {},
     "output_type": "display_data"
    }
   ],
   "source": [
    "%%html\n",
    "<img src='test_accountant.jpg', width: 50, height: 50>"
   ]
  },
  {
   "cell_type": "markdown",
   "metadata": {},
   "source": [
    "- 3.Running the test"
   ]
  },
  {
   "cell_type": "code",
   "execution_count": 157,
   "metadata": {},
   "outputs": [
    {
     "data": {
      "text/html": [
       "<img src='run_test_accountant.jpg', width:100, height:100>"
      ],
      "text/plain": [
       "<IPython.core.display.HTML object>"
      ]
     },
     "metadata": {},
     "output_type": "display_data"
    }
   ],
   "source": [
    "%%html\n",
    "<img src='run_test_accountant.jpg', width:100, height:100>"
   ]
  },
  {
   "cell_type": "markdown",
   "metadata": {},
   "source": [
    "### When is it okay to modify tests?\n",
    "- In general you should not modify a test once it is written.\n",
    "- When a test fails, it usually means new code you've written has broken the existing functionality\n",
    "- you need to modify the new code until all existing tests pass.\n",
    "- If your original requirements have changed, it may e the new code until all existing tests pass"
   ]
  },
  {
   "cell_type": "markdown",
   "metadata": {},
   "source": [
    "### The setUp() method\n",
    "- When testing a class, you usually have to make an instance of the class\n",
    "- The setUp() method is run before every test.\n",
    "- Any instance you make in setUp() are available in every test you write"
   ]
  },
  {
   "cell_type": "markdown",
   "metadata": {},
   "source": [
    "- 1. Using setUp()to support multiple tests, and name the file as mul_test.py"
   ]
  },
  {
   "cell_type": "code",
   "execution_count": 160,
   "metadata": {},
   "outputs": [
    {
     "data": {
      "text/html": [
       "<img src='mul_test_setup.jpg', width:100,height:100>"
      ],
      "text/plain": [
       "<IPython.core.display.HTML object>"
      ]
     },
     "metadata": {},
     "output_type": "display_data"
    }
   ],
   "source": [
    "%%html\n",
    "<img src='mul_test_setup.jpg', width:100,height:100>"
   ]
  },
  {
   "cell_type": "markdown",
   "metadata": {},
   "source": [
    "- 2. Run the mul_test.py "
   ]
  },
  {
   "cell_type": "code",
   "execution_count": 159,
   "metadata": {},
   "outputs": [
    {
     "data": {
      "text/html": [
       "<img src='mul_test.jpg', width:100,height:100>"
      ],
      "text/plain": [
       "<IPython.core.display.HTML object>"
      ]
     },
     "metadata": {},
     "output_type": "display_data"
    }
   ],
   "source": [
    "%%html\n",
    "<img src='mul_test.jpg', width:100,height:100>"
   ]
  },
  {
   "cell_type": "markdown",
   "metadata": {},
   "source": [
    "## Files and exceptions\n",
    "\n",
    "- Programs can read information in from files\n",
    "- Programs can write dat ato files\n",
    "- Reading from files allows you to work with a wide variety of information\n",
    "- Writing to files allows users to pick up where they left off the next time they run your program\n",
    "- You can write text to files\n",
    "- You can store Python structures such as lists in data files"
   ]
  },
  {
   "cell_type": "code",
   "execution_count": 164,
   "metadata": {},
   "outputs": [
    {
     "name": "stdout",
     "output_type": "stream",
     "text": [
      "I love programming.\n",
      "This is the second line of input information.\n"
     ]
    }
   ],
   "source": [
    "# Reading an entire file at once\n",
    "filename = 'happy.txt'\n",
    "\n",
    "with open(filename) as file_object:\n",
    "    content = file_object.read()\n",
    "\n",
    "print(content)"
   ]
  },
  {
   "cell_type": "markdown",
   "metadata": {},
   "source": [
    "#### Reading line by line\n",
    "- Each line that's read from the file has a newline character at the end of the line\n",
    "- The print function adds its own newline character.\n",
    "- The rstrip() method gets rid of the extra blank lines this would result in when printing to the terminal"
   ]
  },
  {
   "cell_type": "code",
   "execution_count": 163,
   "metadata": {},
   "outputs": [
    {
     "name": "stdout",
     "output_type": "stream",
     "text": [
      "I love programming.\n",
      "This is the second line of input information.\n"
     ]
    }
   ],
   "source": [
    "# Reading line by line\n",
    "filename = 'happy.txt'\n",
    "\n",
    "with open(filename) as file_object:\n",
    "    for line in file_object:\n",
    "        print(line.rstrip())"
   ]
  },
  {
   "cell_type": "code",
   "execution_count": 166,
   "metadata": {},
   "outputs": [
    {
     "name": "stdout",
     "output_type": "stream",
     "text": [
      "I love programming.\n",
      "\n",
      "This is the second line of input information.\n"
     ]
    }
   ],
   "source": [
    "# Storing the lines in a list\n",
    "filename = 'happy.txt'\n",
    "with open(filename) as file_object:\n",
    "    lines = file_object.readlines()\n",
    "\n",
    "for line in lines:\n",
    "    print(line)"
   ]
  },
  {
   "cell_type": "markdown",
   "metadata": {},
   "source": [
    "#### Writing to a file\n",
    "- Passing the 'w' argument to open()tells Python you want to write to the file\n",
    "- Be careful, this will erase the contents of the file if it already exists\n",
    "- Passing the 'a' argument tells Python you want to append to the end of an existing file"
   ]
  },
  {
   "cell_type": "code",
   "execution_count": 168,
   "metadata": {
    "collapsed": true
   },
   "outputs": [],
   "source": [
    "# Writing to an empty file\n",
    "filename = 'happy.txt'\n",
    "\n",
    "with open(filename, 'w') as f:\n",
    "    f.write(\"Python is so cool!\")"
   ]
  },
  {
   "cell_type": "code",
   "execution_count": 169,
   "metadata": {
    "collapsed": true
   },
   "outputs": [],
   "source": [
    "# Writing multiple lines to an empty file\n",
    "filename = 'happy.txt'\n",
    "\n",
    "with open(filename, 'w') as f:\n",
    "    f.write(\"Python is so cool\")\n",
    "    f.write(\"I am more getting used to it.\\n\")"
   ]
  },
  {
   "cell_type": "code",
   "execution_count": 170,
   "metadata": {
    "collapsed": true
   },
   "outputs": [],
   "source": [
    "# Appending to a file\n",
    "filename = 'happy.txt'\n",
    "\n",
    "with open(filename, 'a') as f:\n",
    "    f.write(\"I also love working with data.\\n\")\n",
    "    f.write(\"I love making apps as well.\\n\")"
   ]
  },
  {
   "cell_type": "markdown",
   "metadata": {},
   "source": [
    "### File paths\n",
    "- When Python runs the open() function, it looks for the file in the same directory where the program that's being excuted is stored\n",
    "- You can open a file from a subfolder using a relative path.\n",
    "- You can also use an absolute path to open any file on your system"
   ]
  },
  {
   "cell_type": "code",
   "execution_count": 171,
   "metadata": {},
   "outputs": [
    {
     "name": "stdout",
     "output_type": "stream",
     "text": [
      "Hello, this is alice stored in the text_file folder!:\n"
     ]
    }
   ],
   "source": [
    "# Opening a file from a subfolder\n",
    "file_path = \"text_files/alice.txt\" # you can replace with an absolute path as well\n",
    "\n",
    "with open(file_path) as file_object:\n",
    "    lines = file_object.readlines()\n",
    "\n",
    "for line in lines:\n",
    "    print(line.rstrip())"
   ]
  },
  {
   "cell_type": "markdown",
   "metadata": {},
   "source": [
    "## Exception\n",
    "\n",
    "- Exception helps your respond appropriately to erros that are likely to occur. \n",
    "- __You place code that might cause an error (imagine the possibilities for users to make mistakes) in the try block.__\n",
    "- __Code that should run in response to an errror goes in the except block__. \n",
    "- Code that should run only if the try block was successful goes in the else block"
   ]
  },
  {
   "cell_type": "code",
   "execution_count": 184,
   "metadata": {},
   "outputs": [
    {
     "name": "stdout",
     "output_type": "stream",
     "text": [
      "You cannot divide by zero\n"
     ]
    }
   ],
   "source": [
    "# Handling the ZeroDivisionError exeption (cannot run in jupyter)\n",
    "try:\n",
    "    print(5/0)\n",
    "except ZeroDivisionError:\n",
    "    print(\"You cannot divide by zero\")"
   ]
  },
  {
   "cell_type": "code",
   "execution_count": 175,
   "metadata": {
    "collapsed": true
   },
   "outputs": [],
   "source": [
    "# Handling the FileNotFoundError exception\n",
    "f_name = 'happy.txt'\n",
    "\n",
    "try:\n",
    "    with open(f_name) as f_obj:\n",
    "        lines = f_obj.readlines()\n",
    "except FileNotFoundError:\n",
    "    msg = \"Can't find file {0}.\".format(f_name)\n",
    "    print(msg)"
   ]
  },
  {
   "cell_type": "code",
   "execution_count": 179,
   "metadata": {},
   "outputs": [
    {
     "name": "stdout",
     "output_type": "stream",
     "text": [
      "Enter two numbers. I'll divide them\n",
      "First number: 2\n",
      "Second number: 0\n",
      "You can't divide by zero!\n"
     ]
    }
   ],
   "source": [
    "# Using an else block\n",
    "print(\"Enter two numbers. I'll divide them\")\n",
    "\n",
    "x = input(\"First number: \")\n",
    "y = input(\"Second number: \")\n",
    "\n",
    "try:\n",
    "    result = int(x) / int(y)\n",
    "except ZeroDivisionError:\n",
    "    print(\"You can't divide by zero!\")\n",
    "else:\n",
    "    print(result)"
   ]
  },
  {
   "cell_type": "code",
   "execution_count": null,
   "metadata": {},
   "outputs": [
    {
     "name": "stdout",
     "output_type": "stream",
     "text": [
      "Enter two numbers. I'll divide them.\n",
      "Enter 'q' to quit\n"
     ]
    }
   ],
   "source": [
    "# Preventing crashes from user input\n",
    "# The program would crash if the user tries to divide by zero\n",
    "# It will display the error message \n",
    "\"\"\"A simple calculator for division only\"\"\"\n",
    "\n",
    "print(\"Enter two numbers. I'll divide them.\")\n",
    "print(\"Enter 'q' to quit\")\n",
    "\n",
    "    \n",
    "while True:\n",
    "    x = input(\"\\nFirst number: \")\n",
    "    if x == 'q':\n",
    "        break\n",
    "    y = input(\"Second number: \")\n",
    "    if y == 'q':\n",
    "        break\n",
    "    try:\n",
    "        result = int(x) / int(y)\n",
    "    except ZeroDivisonError:\n",
    "        print(\"You can't divide by zero!\")\n",
    "    else:\n",
    "        print(result)"
   ]
  },
  {
   "cell_type": "markdown",
   "metadata": {},
   "source": [
    "### Deciding which errors to report\n",
    "\n",
    "Well-written, properly tested code is not very prone to internal errors such as syntax or logical errors. But eveyr time you program depends on something external such as user input or the existence of a file, there's a possibility of an exception being raised.\n",
    "\n",
    "it's up to your how to communicate errors to your users. Sometimes users need to know if a file is missing; sometimes it's better to handle the error silently."
   ]
  },
  {
   "cell_type": "markdown",
   "metadata": {},
   "source": [
    "### Failing silently\n",
    "- Sometimes you want your program to just continue running when it encounters an error, without reporting the error to the user. __Using the pass statement in an else block__ allows your to do this"
   ]
  },
  {
   "cell_type": "code",
   "execution_count": 192,
   "metadata": {},
   "outputs": [
    {
     "name": "stdout",
     "output_type": "stream",
     "text": [
      "happy.txt has 3 lines.\n"
     ]
    }
   ],
   "source": [
    "# Using the pass statement in an else block, the program can run even we only have happy.txt in the current directory\n",
    "f_names = ['alice.txt', 'happy.txt', 'moby_dick.txt', 'little_women.txt']\n",
    "\n",
    "for f_name in f_names:\n",
    "    # Report the length of each file found.\n",
    "    try:\n",
    "        with open(f_name) as f_obj:\n",
    "            lines = f_obj.readlines()\n",
    "    except FileNotFoundError:\n",
    "        # Just move on to the next file.\n",
    "        pass\n",
    "    else:\n",
    "        num_lines = len(lines)\n",
    "        msg =\"{0} has {1} lines.\".format(f_name, num_lines)\n",
    "        print(msg)\n",
    "            "
   ]
  },
  {
   "cell_type": "markdown",
   "metadata": {},
   "source": [
    "### Avoid bare except blocks\n",
    "- Exception-handling code should catch specific exceptions that you expect to happen during your program's execution.\n",
    "- A bare except block will catch all exceptions, including keyboard interrupts and system exits you might need when forcing a program to close\n",
    "\n",
    "- If you want to use a try block and you're not sure which exception to catch, use Exception. It will catch most exceptions, but still allow you to interrupt programs intentionally."
   ]
  },
  {
   "cell_type": "code",
   "execution_count": 197,
   "metadata": {},
   "outputs": [
    {
     "name": "stdout",
     "output_type": "stream",
     "text": [
      "name 'a' is not defined <class 'NameError'>\n"
     ]
    }
   ],
   "source": [
    "# Don't use bare except blocks\n",
    "try:\n",
    "    print(a)\n",
    "except:\n",
    "    pass\n",
    "\n",
    "# Use Exception instead\n",
    "try:\n",
    "    print(a)\n",
    "except Exception:\n",
    "    pass\n",
    "\n",
    "# Printing the exception\n",
    "try:\n",
    "    print(a)\n",
    "except Exception as e:\n",
    "    print(e, type(e))"
   ]
  },
  {
   "cell_type": "markdown",
   "metadata": {},
   "source": [
    "### Storing data with json\n",
    "\n",
    "- The json module allows you to dump simple Python data structures into a file and load the data from that file the next tiem the program runs\n",
    "- The JSON data format is not specific to Python, so you can share this kind of data with people who work in other languages as well.\n",
    "- Knowing how to manage exceptions is important when working with stored data. you'ill usually want to make sure the data you're trying to load exists before working with it"
   ]
  },
  {
   "cell_type": "code",
   "execution_count": 198,
   "metadata": {
    "collapsed": true
   },
   "outputs": [],
   "source": [
    "# Using json.dump() to store data\n",
    "\"\"\"Store same numbers.\"\"\"\n",
    "\n",
    "import json\n",
    "\n",
    "numbers = [2,3,5,7,11,13]\n",
    "\n",
    "filename = 'numbers.json'\n",
    "with open(filename,'w') as file_object:\n",
    "    json.dump(numbers, file_object)"
   ]
  },
  {
   "cell_type": "code",
   "execution_count": 199,
   "metadata": {},
   "outputs": [
    {
     "name": "stdout",
     "output_type": "stream",
     "text": [
      "[2, 3, 5, 7, 11, 13]\n"
     ]
    }
   ],
   "source": [
    "# Using json.load() to read data\n",
    "\"\"\"Load some previously stored numbers.\"\"\"\n",
    "\n",
    "import json\n",
    "\n",
    "file_name = \"numbers.json\"\n",
    "\n",
    "try:\n",
    "    with open(file_name) as file_object:\n",
    "        numbers = json.load(file_object)\n",
    "except FileNotFoundError:\n",
    "    msg =\"Can't find {0}.\".format(file_name)\n",
    "    print(msg)\n",
    "else:\n",
    "    print(numbers)"
   ]
  },
  {
   "cell_type": "markdown",
   "metadata": {},
   "source": [
    "### Practice with exceptions\n",
    "Take a program you've already written that prompts for user input, and add some error-handling code to the program"
   ]
  },
  {
   "cell_type": "markdown",
   "metadata": {},
   "source": [
    "### Knowing which execution to handle\n",
    "- it can be hard to know what kind of exception to handle when writing code\n",
    "- Try writing your code without a try block, and make it generate an error\n",
    "- The traceback will tell you what kind of exception your program needs to handle"
   ]
  },
  {
   "cell_type": "markdown",
   "metadata": {},
   "source": [
    "## Final advice\n",
    "- if you have a choice between a simple and a complex solution, and both work, use the simple solution. Your code will be easier to maintain, and it will be easier for you and others to build on that code later on"
   ]
  },
  {
   "cell_type": "code",
   "execution_count": null,
   "metadata": {
    "collapsed": true
   },
   "outputs": [],
   "source": []
  }
 ],
 "metadata": {
  "kernelspec": {
   "display_name": "Python [conda env:anaconda3]",
   "language": "python",
   "name": "conda-env-anaconda3-py"
  }
 },
 "nbformat": 4,
 "nbformat_minor": 2
}
