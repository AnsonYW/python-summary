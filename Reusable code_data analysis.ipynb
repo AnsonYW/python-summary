{
 "cells": [
  {
   "cell_type": "markdown",
   "metadata": {},
   "source": [
    "# Import functions"
   ]
  },
  {
   "cell_type": "code",
   "execution_count": null,
   "metadata": {
    "collapsed": true
   },
   "outputs": [],
   "source": [
    "#data analysis package\n",
    "import pandas as pd\n",
    "import numpy as np\n",
    "\n",
    "#graph plotting package\n",
    "import matplotlib.pyplot as plt\n",
    "import seaborn as sns\n",
    "\n",
    "#time feature handling\n",
    "from datetime import datetime\n",
    "\n",
    "#define training and test dataset\n",
    "from sklearn.model_selection import train_test_split, KFold"
   ]
  },
  {
   "cell_type": "markdown",
   "metadata": {},
   "source": [
    "# Import files"
   ]
  },
  {
   "cell_type": "code",
   "execution_count": null,
   "metadata": {
    "collapsed": true
   },
   "outputs": [],
   "source": [
    "df = pd.read_csv('link', sep='\\t')"
   ]
  },
  {
   "cell_type": "markdown",
   "metadata": {},
   "source": [
    "# Get info about the data"
   ]
  },
  {
   "cell_type": "code",
   "execution_count": null,
   "metadata": {
    "collapsed": true
   },
   "outputs": [],
   "source": [
    "#check no. of columns, column names, data type, storage etc\n",
    "df.info() \n",
    "#check the count, mean, std, min,max, 25%, 50%, 75%\n",
    "df.describe() \n",
    "#count the unique items\n",
    "df['item_id'].nunique()\n"
   ]
  },
  {
   "cell_type": "markdown",
   "metadata": {},
   "source": [
    "# Filtering"
   ]
  },
  {
   "cell_type": "code",
   "execution_count": null,
   "metadata": {
    "collapsed": true
   },
   "outputs": [],
   "source": [
    "#Based on a condition of a particular attribute\n",
    "df = df.groupby('order_no').filter(lambda x: len(x) >= 10)\n",
    "#Based on whether it contains some values or not, usually a list\n",
    "df =df.loc[df['store_id'].isin(selection)]\n",
    "#not in\n",
    "df =df.loc[~df['store_id'].isin(selection)]"
   ]
  },
  {
   "cell_type": "markdown",
   "metadata": {},
   "source": [
    "# Manipulation of Dataframe"
   ]
  },
  {
   "cell_type": "code",
   "execution_count": null,
   "metadata": {
    "collapsed": true
   },
   "outputs": [],
   "source": [
    "#drop a particular column\n",
    "df = df.drop(['phoneNum'], axis = 1) \n",
    "#rename a particular column\n",
    "df = df.rename(columns = {'pay_time': 'time'})\n",
    "#add function to change every single record in a column, key point = map\n",
    "def weekend(x):\n",
    "    if (x == 5 or x == 6):\n",
    "        return 1\n",
    "    else:\n",
    "        return 0\n",
    "df['new']=df['DayOfweek'].map(weekend) #apply this function to every record in a particular column\n"
   ]
  },
  {
   "cell_type": "markdown",
   "metadata": {},
   "source": [
    "# Data cleaning"
   ]
  },
  {
   "cell_type": "code",
   "execution_count": null,
   "metadata": {
    "collapsed": true
   },
   "outputs": [],
   "source": [
    "#check the sum of null values for all columns\n",
    "df.isnull().sum() \n",
    "#remove rows with null values\n",
    "df = df.dropna() "
   ]
  },
  {
   "cell_type": "markdown",
   "metadata": {},
   "source": [
    "# Time feature handling"
   ]
  },
  {
   "cell_type": "code",
   "execution_count": null,
   "metadata": {
    "collapsed": true
   },
   "outputs": [],
   "source": [
    "#earliest time\n",
    "df['time'].min()\n",
    "#latest time\n",
    "df['time'].max()\n",
    "\n",
    "#convert to unix time\n",
    "df['time'] = df.time.astype('int64')//10**9\n",
    "\n",
    "#solve the problem 'dtype remained as str/object\n",
    "df['time'] = pd.to_datetime(df['date_time'], errors='coerce')\n",
    "\n",
    "#add standard time features\n",
    "df['minuteofhour'] = df.time.dt.minute\n",
    "df['hourofday'] = df.time.dt.hour\n",
    "df['dayOfweek'] = df.time.dt.dayofweek\n",
    "df['weekofyear'] = df.time.dt.week\n",
    "df['dayofmonth'] = df.time.dt.day\n",
    "df['monthofyear'] = df.time.dt.month\n",
    "\n",
    "#give labels to different time zones\n",
    "df = df.assign(\n",
    "    label_column = pd.cut(\n",
    "    df.time.dt.hour #can be minute, hour, day, week, month\n",
    "    [-1,11,14,18,24], #four interval = four labels\n",
    "    labels=['1st_label','2nd_second','3rd_label','4th_label']))\n",
    "\n",
    "#turn all the time feature into one hot representation\n",
    "df_time = pd.get_dummies(df_data, columns = ['dayofweek', 'day'])\n"
   ]
  }
 ],
 "metadata": {
  "kernelspec": {
   "display_name": "Python 3",
   "language": "python",
   "name": "python3"
  },
  "language_info": {
   "codemirror_mode": {
    "name": "ipython",
    "version": 3
   },
   "file_extension": ".py",
   "mimetype": "text/x-python",
   "name": "python",
   "nbconvert_exporter": "python",
   "pygments_lexer": "ipython3",
   "version": "3.6.2"
  }
 },
 "nbformat": 4,
 "nbformat_minor": 2
}
